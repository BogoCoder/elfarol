{
 "cells": [
  {
   "cell_type": "code",
   "execution_count": 2,
   "id": "01721a42",
   "metadata": {},
   "outputs": [],
   "source": [
    "import ElFarol as ef\n",
    "import pandas as pd\n",
    "import seaborn as sns"
   ]
  },
  {
   "cell_type": "markdown",
   "id": "d345b592",
   "metadata": {},
   "source": [
    "#### Random Model"
   ]
  },
  {
   "cell_type": "code",
   "execution_count": null,
   "id": "bd838c8a",
   "metadata": {},
   "outputs": [],
   "source": [
    "bar = ef.BarElFarol(num_agents=2, threshold=0.6, model='random')\n",
    "DEB=False\n",
    "num_it = 100\n",
    "model = 'random'\n",
    "parameters = [0.5]\n",
    "for t in range(num_it) : \n",
    "    bar.compute_attendance()\n",
    "    bar.compute_scores()\n",
    "    if DEB :\n",
    "        bar.print_round(t)\n",
    "    bar.agents_decide(model=model, params=parameters, DEB=DEB)"
   ]
  },
  {
   "cell_type": "code",
   "execution_count": null,
   "id": "5dcf9be8",
   "metadata": {},
   "outputs": [],
   "source": [
    "data = pd.DataFrame({'attendance': bar.history})\n",
    "data['attendance'].plot()"
   ]
  },
  {
   "cell_type": "markdown",
   "id": "b7b43176",
   "metadata": {},
   "source": [
    "#### Bell et al. Model"
   ]
  },
  {
   "cell_type": "code",
   "execution_count": null,
   "id": "63f6714c",
   "metadata": {},
   "outputs": [],
   "source": [
    "model = 'belletal'\n",
    "bar = ef.BarElFarol(num_agents=100, threshold=0.6, model=model)\n",
    "DEB=False\n",
    "num_it = 2000\n",
    "parameters = [0.015]\n",
    "for t in range(num_it) : \n",
    "    bar.compute_attendance()\n",
    "    bar.compute_scores()\n",
    "    if DEB :\n",
    "        bar.print_round(t)\n",
    "    bar.agents_decide(model=model, params=parameters, DEB=DEB)"
   ]
  },
  {
   "cell_type": "code",
   "execution_count": null,
   "id": "1ec4ba67",
   "metadata": {},
   "outputs": [],
   "source": [
    "data_belletal = pd.DataFrame({'attendance': bar.history})\n",
    "data_belletal['attendance'].plot()"
   ]
  },
  {
   "cell_type": "code",
   "execution_count": null,
   "id": "578cc578",
   "metadata": {},
   "outputs": [],
   "source": [
    "datas = bar.save_pandas()\n",
    "datas.head()"
   ]
  },
  {
   "cell_type": "code",
   "execution_count": null,
   "id": "4039053b",
   "metadata": {},
   "outputs": [],
   "source": [
    "sns.lineplot(x='round', y='probability', data=datas, hue='agent')"
   ]
  },
  {
   "cell_type": "markdown",
   "id": "96774e9f",
   "metadata": {},
   "source": [
    "#### Win-Stay-Lose-Shift Model"
   ]
  },
  {
   "cell_type": "code",
   "execution_count": 51,
   "id": "769abf5c",
   "metadata": {},
   "outputs": [],
   "source": [
    "bar = ef.BarElFarol(num_agents=100, threshold=0.6, model='win-stay-lose-shift')\n",
    "DEB=False\n",
    "num_it = 20\n",
    "model = 'win-stay-lose-shift'\n",
    "parameters = [0]\n",
    "for t in range(num_it) : \n",
    "    bar.compute_attendance()\n",
    "    bar.compute_scores()\n",
    "    if DEB :\n",
    "        bar.print_round(t)\n",
    "    bar.agents_decide(model=model, params=parameters, DEB=DEB)"
   ]
  },
  {
   "cell_type": "code",
   "execution_count": 50,
   "id": "52b32578",
   "metadata": {},
   "outputs": [
    {
     "data": {
      "text/plain": [
       "<AxesSubplot:>"
      ]
     },
     "execution_count": 50,
     "metadata": {},
     "output_type": "execute_result"
    },
    {
     "data": {
      "image/png": "[encoded data removed]",
      "text/plain": [
       "<Figure size 432x288 with 1 Axes>"
      ]
     },
     "metadata": {
      "needs_background": "light"
     },
     "output_type": "display_data"
    }
   ],
   "source": [
    "data = pd.DataFrame({'attendance': bar.history})\n",
    "data['attendance'].plot()"
   ]
  },
  {
   "cell_type": "code",
   "execution_count": 9,
   "id": "837cb4fe",
   "metadata": {},
   "outputs": [
    {
     "data": {
      "text/html": [
       "<div>\n",
       "<style scoped>\n",
       "    .dataframe tbody tr th:only-of-type {\n",
       "        vertical-align: middle;\n",
       "    }\n",
       "\n",
       "    .dataframe tbody tr th {\n",
       "        vertical-align: top;\n",
       "    }\n",
       "\n",
       "    .dataframe thead th {\n",
       "        text-align: right;\n",
       "    }\n",
       "</style>\n",
       "<table border=\"1\" class=\"dataframe\">\n",
       "  <thead>\n",
       "    <tr style=\"text-align: right;\">\n",
       "      <th></th>\n",
       "      <th>round</th>\n",
       "      <th>agent</th>\n",
       "      <th>choice</th>\n",
       "      <th>score</th>\n",
       "      <th>probability</th>\n",
       "    </tr>\n",
       "  </thead>\n",
       "  <tbody>\n",
       "    <tr>\n",
       "      <th>0</th>\n",
       "      <td>1</td>\n",
       "      <td>0</td>\n",
       "      <td>1</td>\n",
       "      <td>1</td>\n",
       "      <td>0.989343</td>\n",
       "    </tr>\n",
       "    <tr>\n",
       "      <th>1</th>\n",
       "      <td>2</td>\n",
       "      <td>0</td>\n",
       "      <td>1</td>\n",
       "      <td>-1</td>\n",
       "      <td>1.000000</td>\n",
       "    </tr>\n",
       "    <tr>\n",
       "      <th>2</th>\n",
       "      <td>3</td>\n",
       "      <td>0</td>\n",
       "      <td>0</td>\n",
       "      <td>0</td>\n",
       "      <td>0.000000</td>\n",
       "    </tr>\n",
       "    <tr>\n",
       "      <th>3</th>\n",
       "      <td>4</td>\n",
       "      <td>0</td>\n",
       "      <td>1</td>\n",
       "      <td>-1</td>\n",
       "      <td>1.000000</td>\n",
       "    </tr>\n",
       "    <tr>\n",
       "      <th>4</th>\n",
       "      <td>5</td>\n",
       "      <td>0</td>\n",
       "      <td>0</td>\n",
       "      <td>0</td>\n",
       "      <td>0.000000</td>\n",
       "    </tr>\n",
       "  </tbody>\n",
       "</table>\n",
       "</div>"
      ],
      "text/plain": [
       "   round  agent  choice  score  probability\n",
       "0      1      0       1      1     0.989343\n",
       "1      2      0       1     -1     1.000000\n",
       "2      3      0       0      0     0.000000\n",
       "3      4      0       1     -1     1.000000\n",
       "4      5      0       0      0     0.000000"
      ]
     },
     "execution_count": 9,
     "metadata": {},
     "output_type": "execute_result"
    }
   ],
   "source": [
    "datas = bar.save_pandas()\n",
    "datas.head()"
   ]
  },
  {
   "cell_type": "code",
   "execution_count": 10,
   "id": "ad76191c",
   "metadata": {},
   "outputs": [
    {
     "data": {
      "text/plain": [
       "<AxesSubplot:xlabel='round', ylabel='probability'>"
      ]
     },
     "execution_count": 10,
     "metadata": {},
     "output_type": "execute_result"
    },
    {
     "data": {
      "image/png": "[encoded data removed]",
      "text/plain": [
       "<Figure size 432x288 with 1 Axes>"
      ]
     },
     "metadata": {
      "needs_background": "light"
     },
     "output_type": "display_data"
    }
   ],
   "source": [
    "sns.lineplot(x='round', y='probability', data=datas, hue='agent')"
   ]
  },
  {
   "cell_type": "code",
   "execution_count": null,
   "id": "843291be",
   "metadata": {},
   "outputs": [],
   "source": []
  }
 ],
 "metadata": {
  "kernelspec": {
   "display_name": "Python 3",
   "language": "python",
   "name": "python3"
  },
  "language_info": {
   "codemirror_mode": {
    "name": "ipython",
    "version": 3
   },
   "file_extension": ".py",
   "mimetype": "text/x-python",
   "name": "python",
   "nbconvert_exporter": "python",
   "pygments_lexer": "ipython3",
   "version": "3.8.8"
  }
 },
 "nbformat": 4,
 "nbformat_minor": 5
}
