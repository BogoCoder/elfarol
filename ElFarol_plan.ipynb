{
 "cells": [
  {
   "cell_type": "markdown",
   "metadata": {},
   "source": [
    "#### Cognitive models for El Farol\n",
    "---"
   ]
  },
  {
   "cell_type": "markdown",
   "metadata": {},
   "source": [
    "#### Models\n",
    "\n",
    "- M0. Random p=0.5\n",
    "- M1. Bell et al. (2003)\n",
    "- M2. WinStay - LoseShift\n",
    "\n",
    "$$ \n",
    "p_t = \n",
    "     \\begin{cases}\n",
    "       1-\\epsilon/2\\text{,} &\\quad\\text{if } (c_{t-1}=1 \\text{ and } r_{t-1}=1)\\\\\n",
    "       \\epsilon/2\\text{,} &\\quad\\text{if } (c_{t-1}=1 \\text{ and } r_{t-1}=-1) \\text{ or } (c_{t-1} = 0)\\\\\n",
    "     \\end{cases}\n",
    "$$\n",
    "- M3. P dependiendo de si mismo\n",
    "$$ \n",
    "p_t = \n",
    "     \\begin{cases}\n",
    "       \\gamma_1\\text{,} &\\quad\\text{if } (c_{t-1}=1)\\\\\n",
    "       \\gamma_2\\text{,} &\\quad\\text{if } (c_{t-1}=0 )\\\\\n",
    "     \\end{cases}\n",
    "$$\n",
    "- M4. P dependiendo de compañero\n",
    "$$ \n",
    "p_t = \n",
    "     \\begin{cases}\n",
    "       \\gamma_1\\text{,} &\\quad\\text{if } (c_{t-1}^{\\text{partner}}=1)\\\\\n",
    "       \\gamma_2\\text{,} &\\quad\\text{if } (c_{t-1}^{\\text{partner}}=0)\\\\\n",
    "     \\end{cases}\n",
    "$$\n",
    "- M5. Combinación de M3 y M4\n",
    "\n",
    "$$ \n",
    "p_t = \n",
    "     \\begin{cases}\n",
    "       \\gamma_1\\text{,} &\\quad\\text{if } (c_{t-1}=1 \\text{ and } c_{t-1}^{\\text{partner}}=1)\\\\\n",
    "       \\gamma_2\\text{,} &\\quad\\text{if } (c_{t-1}=0 \\text{ and } c_{t-1}^{\\text{partner}}=1)\\\\\n",
    "       \\gamma_3\\text{,} &\\quad\\text{if } (c_{t-1}=1 \\text{ and } c_{t-1}^{\\text{partner}}=0)\\\\\n",
    "       \\gamma_4\\text{,} &\\quad\\text{if } (c_{t-1}=0 \\text{ and } c_{t-1}^{\\text{partner}}=0)\\\\\n",
    "     \\end{cases}\n",
    "$$"
   ]
  },
  {
   "cell_type": "markdown",
   "metadata": {},
   "source": [
    "#### Steps\n",
    "\n",
    "Estudio cualitativo de modelos\n",
    "\n",
    "- Correr simulaciones de cada modelo con parámetros dados. $\\checkmark$\n",
    "- Barrido de parámetros. $\\checkmark$\n",
    "- Visualización de los comportamientos dependiendo de los parámetros. $\\checkmark$\n",
    "\n",
    "Ejercicio de recuperación de modelo.\n",
    "\n",
    "- Estimación de parámetros con máxima verosimilitud. $\\checkmark$\n",
    "- Recuperación de parámetros dada una colección de datos.\n",
    "- Comparación estimado vs real para cada modelo.\n",
    "- Matriz de confusión.\n",
    "\n",
    "Comparación con datos conductuales.\n",
    "\n",
    "- Estimación de parámetros de cada modelo respecto a datos conductuales.\n",
    "- Visualización de los modelos con los parámetros estimados."
   ]
  },
  {
   "cell_type": "markdown",
   "metadata": {},
   "source": [
    "#### Parameter recovery\n",
    "\n",
    "Let $c_t^i$ be the $i$th player's choice at time $t$. Let $c_t^{partner_i}$ be the $i$th player's partner's choice at time $t$. Let $A_t = \\sum_{i=1}^I c_t^i$ with $I$ being the total number of players. Let $X_{1,2,3,4}$ be\n",
    "\n",
    "$$ \n",
    "     \\begin{align}\n",
    "       I_1 &= \\vert\\{i: c_{t-1}^i=1 \\text{ and } c_{t-1}^{\\text{partner}_i}=1 \\}\\vert\\\\\n",
    "       I_2 &= \\vert\\{i: c_{t-1}^i=0 \\text{ and } c_{t-1}^{\\text{partner}_i}=1 \\}\\vert\\\\\n",
    "       I_3 &= \\vert\\{i: c_{t-1}^i=1 \\text{ and } c_{t-1}^{\\text{partner}_i}=0 \\}\\vert\\\\\n",
    "       I_4 &= \\vert\\{i: c_{t-1}^i=0 \\text{ and } c_{t-1}^{\\text{partner}_i}=0 \\}\\vert\\\\\n",
    "     \\end{align}\n",
    "$$\n",
    "\n",
    "$$ \n",
    "     \\begin{align}\n",
    "       X_1 &= \\vert\\{i: c_t^i = 1 \\text{ and } c_{t-1}^i=1 \\text{ and } c_{t-1}^{\\text{partner}_i}=1 \\}\\vert\\\\\n",
    "       X_2 &= \\vert\\{i:  c_t^i = 1 \\text{ and } c_{t-1}^i=0 \\text{ and } c_{t-1}^{\\text{partner}_i}=1 \\}\\vert\\\\\n",
    "       X_3 &= \\vert\\{i:  c_t^i = 1 \\text{ and } c_{t-1}^i=1 \\text{ and } c_{t-1}^{\\text{partner}_i}=0 \\}\\vert\\\\\n",
    "       X_4 &= \\vert\\{i: c_t^i = 1 \\text{ and } c_{t-1}^i=0 \\text{ and } c_{t-1}^{\\text{partner}_i}=0 \\}\\vert\\\\\n",
    "     \\end{align}\n",
    "$$\n",
    "\n",
    "Probability function:\n",
    "\n",
    "$$ P(X_k = n_k) = \\binom{I_k}{n_k} p_k^{n_k} (1-p_k)^{I_k} $$\n",
    "\n",
    "Likelihood: \n",
    "\n",
    "$$ L(\\theta \\lvert n_1, \\cdots, n_4, M) = \\prod_{k=1}^4 P(X_k = n_k \\lvert \\theta, M) $$\n",
    "\n",
    "Deviance:\n",
    "\n",
    "$$Dev(\\theta, n_1, \\cdots, n_4, M) = -\\sum_{k=1}^4 \\log P(X_k = n_k \\lvert \\theta, M) $$\n",
    "Deviance minimization:"
   ]
  },
  {
   "cell_type": "raw",
   "metadata": {},
   "source": [
    "choice_lag  choice_partner_lag\n",
    "0           0                    => X4\n",
    "            1                    => X2\n",
    "1           0                    => X3\n",
    "            1                    => X1\n",
    "Name: choice, dtype: int64"
   ]
  }
 ],
 "metadata": {
  "kernelspec": {
   "display_name": "Python 3",
   "language": "python",
   "name": "python3"
  },
  "language_info": {
   "codemirror_mode": {
    "name": "ipython",
    "version": 3
   },
   "file_extension": ".py",
   "mimetype": "text/x-python",
   "name": "python",
   "nbconvert_exporter": "python",
   "pygments_lexer": "ipython3",
   "version": "3.8.8"
  }
 },
 "nbformat": 4,
 "nbformat_minor": 2
}
