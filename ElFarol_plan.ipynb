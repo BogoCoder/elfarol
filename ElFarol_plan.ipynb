{
 "cells": [
  {
   "cell_type": "markdown",
   "metadata": {},
   "source": [
    "#### Cognitive models for El Farol\n",
    "---"
   ]
  },
  {
   "cell_type": "markdown",
   "metadata": {},
   "source": [
    "#### Models\n",
    "\n",
    "- M0. Random p=0.5\n",
    "- M1. Bell et al. (2003)\n",
    "- M2. WinStay - LoseShift\n",
    "- M3. P dependiendo de si mismo\n",
    "- M4. P dependiendo de compañero\n",
    "- M5. Combinación de M3 y M4"
   ]
  },
  {
   "cell_type": "markdown",
   "metadata": {},
   "source": [
    "#### Steps\n",
    "\n",
    "Estudio cualitativo de modelos\n",
    "\n",
    "- Correr simulaciones de cada modelo con parámetros dados.\n",
    "- Barrido de parámetros.\n",
    "- Visualización de los comportamientos dependiendo de los parámetros.\n",
    "\n",
    "Ejercicio de recuperación de modelo.\n",
    "\n",
    "- Estimación de parámetros con máxima verosimilitud.\n",
    "- Recuperación de parámetros dada una colección de datos.\n",
    "- Comparación estimado vs real para cada modelo.\n",
    "- Matriz de confusión.\n",
    "\n",
    "Comparación con datos conductuales.\n",
    "\n",
    "- Estimación de parámetros de cada modelo respecto a datos conductuales.\n",
    "- Visualización de los modelos con los parámetros estimados."
   ]
  }
 ],
 "metadata": {
  "language_info": {
   "name": "python"
  },
  "orig_nbformat": 4
 },
 "nbformat": 4,
 "nbformat_minor": 2
}
