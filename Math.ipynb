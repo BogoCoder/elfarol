{
 "cells": [
  {
   "cell_type": "code",
   "execution_count": 1,
   "id": "57102a9d",
   "metadata": {},
   "outputs": [],
   "source": [
    "from scipy.stats import binom, multinomial\n",
    "from scipy.optimize import minimize, Bounds, minimize_scalar\n",
    "import numpy as np\n",
    "import pandas as pd\n",
    "import matplotlib.pyplot as plt\n",
    "import seaborn as sns\n",
    "import matplotlib as mpl\n",
    "from itertools import product"
   ]
  },
  {
   "cell_type": "code",
   "execution_count": 2,
   "id": "e85ce0a0",
   "metadata": {},
   "outputs": [],
   "source": [
    "# Edit the font, font size, and axes width\n",
    "\n",
    "mpl.rcParams['font.family'] = 'Avenir LT Std'\n",
    "plt.rcParams['font.size'] = 14\n",
    "plt.rcParams['axes.linewidth'] = 2"
   ]
  },
  {
   "cell_type": "code",
   "execution_count": 3,
   "id": "25e05b15",
   "metadata": {},
   "outputs": [],
   "source": [
    "def optimizar(fun, parametros,minimos,maximos,data,modelo):\n",
    "    x0 = np.array(parametros)\n",
    "    bounds = Bounds(minimos,maximos)\n",
    "#    print(\"Finding fitting parameters. Please wait...\")\n",
    "    res = minimize(\n",
    "        fun,\n",
    "        x0,\n",
    "#        args=(data,modelo),\n",
    "        method='trust-constr',\n",
    "#        method='Nelder-Mead',\n",
    "#        method='Newton-CG',\n",
    "        bounds=bounds,\n",
    "        options={'verbose':0}\n",
    "    )\n",
    "    return res"
   ]
  },
  {
   "cell_type": "code",
   "execution_count": 3,
   "id": "b319e68b",
   "metadata": {},
   "outputs": [
    {
     "data": {
      "text/plain": [
       "0.5054370011155953"
      ]
     },
     "execution_count": 3,
     "metadata": {},
     "output_type": "execute_result"
    }
   ],
   "source": [
    "binom.cdf(59, 99, 0.6)"
   ]
  },
  {
   "cell_type": "code",
   "execution_count": 4,
   "id": "d114477d",
   "metadata": {},
   "outputs": [
    {
     "data": {
      "text/plain": [
       "     fun: nan\n",
       "    nfev: 41\n",
       "     nit: 37\n",
       " success: False\n",
       "       x: -1.6180339754913822"
      ]
     },
     "execution_count": 4,
     "metadata": {},
     "output_type": "execute_result"
    }
   ],
   "source": [
    "f = lambda p: np.abs(binom.cdf(59, 99, p)-0.5054)\n",
    "bounds = Bounds(np.array(0),np.array(1))\n",
    "minimize_scalar(f)"
   ]
  },
  {
   "cell_type": "code",
   "execution_count": 5,
   "id": "3c548f2c",
   "metadata": {},
   "outputs": [],
   "source": [
    "def objective_function(x):\n",
    "\n",
    "    return np.abs(binom.cdf(0, 1, x)-0.5)\n",
    "res = minimize_scalar(objective_function, method='Bounded', bounds=(0,1))"
   ]
  },
  {
   "cell_type": "code",
   "execution_count": 6,
   "id": "df8bd89b",
   "metadata": {},
   "outputs": [
    {
     "data": {
      "text/plain": [
       "     fun: 0.0\n",
       " message: 'Solution found.'\n",
       "    nfev: 13\n",
       "  status: 0\n",
       " success: True\n",
       "       x: 0.5"
      ]
     },
     "execution_count": 6,
     "metadata": {},
     "output_type": "execute_result"
    }
   ],
   "source": [
    "res"
   ]
  },
  {
   "cell_type": "code",
   "execution_count": 6,
   "id": "7a345d7e",
   "metadata": {},
   "outputs": [],
   "source": [
    "def read_models(params_list, model_in):\n",
    "    list_df = []\n",
    "    for par in params_list:\n",
    "        p = '_'.join([str(x) for x in par])\n",
    "        f_name = f'./model_measurements/{model_in}/{model_in}_{p}.csv'\n",
    "        test_exp = pd.read_csv(f_name, index_col=0)\n",
    "        list_df.append(test_exp) \n",
    "    df_models = pd.concat(list_df)\n",
    "    return df_models"
   ]
  },
  {
   "cell_type": "code",
   "execution_count": 12,
   "id": "b9696993",
   "metadata": {},
   "outputs": [],
   "source": [
    "def get_partner_choice(x):\n",
    "    a = [i for i in x]\n",
    "    a.reverse()\n",
    "    return a"
   ]
  },
  {
   "cell_type": "code",
   "execution_count": 9,
   "id": "fda3a9f2",
   "metadata": {},
   "outputs": [],
   "source": [
    "params_list=[[0.1]]\n",
    "model_in = 'random'\n",
    "datas = read_models(params_list, model_in)"
   ]
  },
  {
   "cell_type": "code",
   "execution_count": 10,
   "id": "6e6d1089",
   "metadata": {},
   "outputs": [
    {
     "data": {
      "text/html": [
       "<div>\n",
       "<style scoped>\n",
       "    .dataframe tbody tr th:only-of-type {\n",
       "        vertical-align: middle;\n",
       "    }\n",
       "\n",
       "    .dataframe tbody tr th {\n",
       "        vertical-align: top;\n",
       "    }\n",
       "\n",
       "    .dataframe thead th {\n",
       "        text-align: right;\n",
       "    }\n",
       "</style>\n",
       "<table border=\"1\" class=\"dataframe\">\n",
       "  <thead>\n",
       "    <tr style=\"text-align: right;\">\n",
       "      <th></th>\n",
       "      <th>round</th>\n",
       "      <th>agent</th>\n",
       "      <th>choice</th>\n",
       "      <th>score</th>\n",
       "      <th>probability</th>\n",
       "      <th>params</th>\n",
       "      <th>trial</th>\n",
       "      <th>eff</th>\n",
       "      <th>fairness</th>\n",
       "    </tr>\n",
       "  </thead>\n",
       "  <tbody>\n",
       "    <tr>\n",
       "      <th>0</th>\n",
       "      <td>1</td>\n",
       "      <td>0</td>\n",
       "      <td>1</td>\n",
       "      <td>1</td>\n",
       "      <td>0.5</td>\n",
       "      <td>[0.1]</td>\n",
       "      <td>0</td>\n",
       "      <td>0.015</td>\n",
       "      <td>0.030928</td>\n",
       "    </tr>\n",
       "    <tr>\n",
       "      <th>10000</th>\n",
       "      <td>1</td>\n",
       "      <td>1</td>\n",
       "      <td>0</td>\n",
       "      <td>0</td>\n",
       "      <td>0.5</td>\n",
       "      <td>[0.1]</td>\n",
       "      <td>0</td>\n",
       "      <td>0.015</td>\n",
       "      <td>0.030928</td>\n",
       "    </tr>\n",
       "    <tr>\n",
       "      <th>100</th>\n",
       "      <td>2</td>\n",
       "      <td>0</td>\n",
       "      <td>0</td>\n",
       "      <td>0</td>\n",
       "      <td>0.1</td>\n",
       "      <td>[0.1]</td>\n",
       "      <td>0</td>\n",
       "      <td>0.015</td>\n",
       "      <td>0.030928</td>\n",
       "    </tr>\n",
       "    <tr>\n",
       "      <th>10100</th>\n",
       "      <td>2</td>\n",
       "      <td>1</td>\n",
       "      <td>0</td>\n",
       "      <td>0</td>\n",
       "      <td>0.1</td>\n",
       "      <td>[0.1]</td>\n",
       "      <td>0</td>\n",
       "      <td>0.015</td>\n",
       "      <td>0.030928</td>\n",
       "    </tr>\n",
       "    <tr>\n",
       "      <th>200</th>\n",
       "      <td>3</td>\n",
       "      <td>0</td>\n",
       "      <td>1</td>\n",
       "      <td>1</td>\n",
       "      <td>0.1</td>\n",
       "      <td>[0.1]</td>\n",
       "      <td>0</td>\n",
       "      <td>0.015</td>\n",
       "      <td>0.030928</td>\n",
       "    </tr>\n",
       "    <tr>\n",
       "      <th>...</th>\n",
       "      <td>...</td>\n",
       "      <td>...</td>\n",
       "      <td>...</td>\n",
       "      <td>...</td>\n",
       "      <td>...</td>\n",
       "      <td>...</td>\n",
       "      <td>...</td>\n",
       "      <td>...</td>\n",
       "      <td>...</td>\n",
       "    </tr>\n",
       "    <tr>\n",
       "      <th>19799</th>\n",
       "      <td>98</td>\n",
       "      <td>1</td>\n",
       "      <td>0</td>\n",
       "      <td>0</td>\n",
       "      <td>0.1</td>\n",
       "      <td>[0.1]</td>\n",
       "      <td>99</td>\n",
       "      <td>0.085</td>\n",
       "      <td>0.075269</td>\n",
       "    </tr>\n",
       "    <tr>\n",
       "      <th>9899</th>\n",
       "      <td>99</td>\n",
       "      <td>0</td>\n",
       "      <td>0</td>\n",
       "      <td>0</td>\n",
       "      <td>0.1</td>\n",
       "      <td>[0.1]</td>\n",
       "      <td>99</td>\n",
       "      <td>0.085</td>\n",
       "      <td>0.075269</td>\n",
       "    </tr>\n",
       "    <tr>\n",
       "      <th>19899</th>\n",
       "      <td>99</td>\n",
       "      <td>1</td>\n",
       "      <td>0</td>\n",
       "      <td>0</td>\n",
       "      <td>0.1</td>\n",
       "      <td>[0.1]</td>\n",
       "      <td>99</td>\n",
       "      <td>0.085</td>\n",
       "      <td>0.075269</td>\n",
       "    </tr>\n",
       "    <tr>\n",
       "      <th>9999</th>\n",
       "      <td>100</td>\n",
       "      <td>0</td>\n",
       "      <td>0</td>\n",
       "      <td>0</td>\n",
       "      <td>0.1</td>\n",
       "      <td>[0.1]</td>\n",
       "      <td>99</td>\n",
       "      <td>0.085</td>\n",
       "      <td>0.075269</td>\n",
       "    </tr>\n",
       "    <tr>\n",
       "      <th>19999</th>\n",
       "      <td>100</td>\n",
       "      <td>1</td>\n",
       "      <td>0</td>\n",
       "      <td>0</td>\n",
       "      <td>0.1</td>\n",
       "      <td>[0.1]</td>\n",
       "      <td>99</td>\n",
       "      <td>0.085</td>\n",
       "      <td>0.075269</td>\n",
       "    </tr>\n",
       "  </tbody>\n",
       "</table>\n",
       "<p>20000 rows × 9 columns</p>\n",
       "</div>"
      ],
      "text/plain": [
       "       round  agent  choice  score  probability params  trial    eff  fairness\n",
       "0          1      0       1      1          0.5  [0.1]      0  0.015  0.030928\n",
       "10000      1      1       0      0          0.5  [0.1]      0  0.015  0.030928\n",
       "100        2      0       0      0          0.1  [0.1]      0  0.015  0.030928\n",
       "10100      2      1       0      0          0.1  [0.1]      0  0.015  0.030928\n",
       "200        3      0       1      1          0.1  [0.1]      0  0.015  0.030928\n",
       "...      ...    ...     ...    ...          ...    ...    ...    ...       ...\n",
       "19799     98      1       0      0          0.1  [0.1]     99  0.085  0.075269\n",
       "9899      99      0       0      0          0.1  [0.1]     99  0.085  0.075269\n",
       "19899     99      1       0      0          0.1  [0.1]     99  0.085  0.075269\n",
       "9999     100      0       0      0          0.1  [0.1]     99  0.085  0.075269\n",
       "19999    100      1       0      0          0.1  [0.1]     99  0.085  0.075269\n",
       "\n",
       "[20000 rows x 9 columns]"
      ]
     },
     "execution_count": 10,
     "metadata": {},
     "output_type": "execute_result"
    }
   ],
   "source": [
    "datas.sort_values(by=['trial', 'round'])"
   ]
  },
  {
   "cell_type": "markdown",
   "id": "89b8f655",
   "metadata": {},
   "source": [
    "#### Deviance"
   ]
  },
  {
   "cell_type": "code",
   "execution_count": 85,
   "id": "c992b1cd",
   "metadata": {},
   "outputs": [],
   "source": [
    "def deviance(theta, Is, ns, model_in):\n",
    "    if model_in == 'random':\n",
    "            theta_ = theta*4\n",
    "    elif model_in == 'p-self':\n",
    "            theta_ = theta*2\n",
    "    return -np.sum(binom.logpmf(ns, Is, theta_))\n",
    "\n",
    "def get_freqs(df):\n",
    "    datas = df.copy()\n",
    "    datas.sort_values(by=['trial', 'agent','round'], inplace=True)\n",
    "    datas['choice_lag'] = datas.groupby(['agent'])['choice'].transform('shift', 1)\n",
    "    datas['choice_lag'] = pd.Categorical(datas['choice_lag'], categories=[0,1])\n",
    "    datas['choice_partner'] = datas.groupby(['round'])['choice'].transform(lambda x: get_partner_choice(x))\n",
    "    datas['choice_partner'] = pd.Categorical(datas['choice_partner'], categories=[0,1])\n",
    "    datas['choice_partner_lag'] = datas.groupby(['agent'])['choice_partner'].transform('shift', 1)\n",
    "    ns = datas.groupby(['choice_lag', 'choice_partner_lag'])['choice'].sum().to_numpy()\n",
    "    return ns\n",
    "\n",
    "def get_totals(df):\n",
    "    datas = df.copy()\n",
    "    datas.sort_values(by=['trial', 'agent','round'], inplace=True)\n",
    "    datas['choice_lag'] = datas.groupby(['agent'])['choice'].transform('shift', 1)\n",
    "    datas['choice_lag'] = pd.Categorical(datas['choice_lag'], categories=[0,1])\n",
    "    datas['choice_partner'] = datas.groupby(['round'])['choice'].transform(lambda x: get_partner_choice(x))\n",
    "    datas['choice_partner'] = pd.Categorical(datas['choice_partner'], categories=[0,1])\n",
    "    datas['choice_partner_lag'] = datas.groupby(['agent'])['choice_partner'].transform('shift', 1)\n",
    "    Is = datas.groupby(['choice_lag', 'choice_partner_lag'])['choice'].count().to_numpy()\n",
    "    return Is"
   ]
  },
  {
   "cell_type": "code",
   "execution_count": 26,
   "id": "540852a7",
   "metadata": {},
   "outputs": [],
   "source": [
    "def optimizar(deviance, parametros,minimos,maximos, Is, ns, model_in):\n",
    "\n",
    "    x0 = np.array(parametros)\n",
    "    bounds = Bounds(minimos,maximos)\n",
    "#    print(\"Finding fitting parameters. Please wait...\")\n",
    "    res = minimize(\n",
    "        deviance,\n",
    "        x0,\n",
    "        args=(Is, ns, model_in),\n",
    "        method='trust-constr',\n",
    "#        method='Nelder-Mead',\n",
    "#        method='Newton-CG',\n",
    "        bounds=bounds,\n",
    "        options={'verbose':0}\n",
    "    )\n",
    "    return res"
   ]
  },
  {
   "cell_type": "code",
   "execution_count": 23,
   "id": "b1212807",
   "metadata": {},
   "outputs": [],
   "source": [
    "def best_fit(df, model_in, N=10) :\n",
    "    ns = get_freqs(df)\n",
    "    Is = get_totals(df)\n",
    "    if model_in == 'random' or model_in=='belletal':\n",
    "        num_theta = 1\n",
    "    elif model_in == 'p-self':\n",
    "        num_theta = 2\n",
    "        \n",
    "    minimos = [0]*num_theta\n",
    "    maximos = [1]*num_theta\n",
    "    best_pars=[np.nan]*len(minimos)\n",
    "    best_fit=10000\n",
    "    for k in range(N) :\n",
    "        randomp=np.random.rand(num_theta)\n",
    "        res=optimizar(deviance, randomp,minimos,maximos,Is, ns, model_in)\n",
    "        pars=[round(x,2) for x in res.x]\n",
    "        dev=res.fun\n",
    "        if dev < best_fit :\n",
    "            best_fit=dev\n",
    "            best_pars=pars\n",
    "    return best_pars, best_fit"
   ]
  },
  {
   "cell_type": "code",
   "execution_count": 21,
   "id": "1ae199e0",
   "metadata": {},
   "outputs": [],
   "source": [
    "def pairs_estimate(params_list, model_in):\n",
    "    best_fits = []\n",
    "    for par in params_list:\n",
    "        par_originals = par\n",
    "        datas = read_models([par], model_in)\n",
    "        b_f = best_fit(datas, model_in, N=1)\n",
    "        best_fits.append((par_originals,b_f[0]))\n",
    "    return best_fits"
   ]
  },
  {
   "cell_type": "code",
   "execution_count": 24,
   "id": "b1168b75",
   "metadata": {},
   "outputs": [],
   "source": [
    "def plots_estimate(params_list, model_in):\n",
    "    result_pairs = pairs_estimate(params_list, model_in)\n",
    "    result_pairs_np = np.array(result_pairs)\n",
    "    if model_in == 'random' or model_in == 'belletal':\n",
    "        num_theta = 1\n",
    "    elif model_in == 'p-self':\n",
    "        num_theta = 2\n",
    "    fig, ax = plt.subplots(1,num_theta, figsize=(num_theta*4,3), tight_layout=True)\n",
    "\n",
    "    if num_theta > 1:\n",
    "        for i in range(num_theta):\n",
    "            ax[i].yaxis.set_tick_params(which='major', size=6, width=0.5, direction='out')\n",
    "            ax[i].yaxis.set_tick_params(which='minor', size=3, width=0.5, direction='out')\n",
    "            ax[i].xaxis.set_tick_params(which='major', size=6, width=0.5, direction='out')\n",
    "            ax[i].xaxis.set_tick_params(which='minor', size=3, width=0.5, direction='out')\n",
    "            ax[i].set_xlim([0,1])\n",
    "            ax[i].set_ylim([0,1])\n",
    "            \n",
    "            X = result_pairs_np[:,0,i]\n",
    "            Y = result_pairs_np[:,1,i]\n",
    "            sns.lineplot(x=X, y=Y, ax=ax[i], color='gray', linestyle='--')\n",
    "            sns.scatterplot(x=X, y=Y, ax=ax[i], s=60, color='black')\n",
    "    elif num_theta == 1:\n",
    "        ax.yaxis.set_tick_params(which='major', size=6, width=0.5, direction='out')\n",
    "        ax.yaxis.set_tick_params(which='minor', size=3, width=0.5, direction='out')\n",
    "        ax.xaxis.set_tick_params(which='major', size=6, width=0.5, direction='out')\n",
    "        ax.xaxis.set_tick_params(which='minor', size=3, width=0.5, direction='out')\n",
    "        ax.set_xlim([0,1])\n",
    "        ax.set_ylim([0,1])\n",
    "        \n",
    "        X = result_pairs_np[:,0,0]\n",
    "        Y = result_pairs_np[:,1,0]\n",
    "        sns.lineplot(x=X, y=Y, ax=ax, color='gray', linestyle='--')\n",
    "        sns.scatterplot(x=X, y=Y, ax=ax, s=60, color='black')        \n",
    "    plt.savefig(f'figures/{model_in}.png', dpi=300, transparent=False)"
   ]
  },
  {
   "cell_type": "code",
   "execution_count": 109,
   "id": "72971979",
   "metadata": {},
   "outputs": [
    {
     "data": {
      "image/png": "[encoded data removed]",
      "text/plain": [
       "<Figure size 288x216 with 1 Axes>"
      ]
     },
     "metadata": {
      "needs_background": "light"
     },
     "output_type": "display_data"
    }
   ],
   "source": [
    "params_list=[[0.1], [0.2], [0.3], [0.4], [0.5], [0.6]]\n",
    "model_in = 'random'\n",
    "plots_estimate(params_list, model_in)"
   ]
  },
  {
   "cell_type": "code",
   "execution_count": 71,
   "id": "31f9f1ab",
   "metadata": {},
   "outputs": [
    {
     "name": "stderr",
     "output_type": "stream",
     "text": [
      "C:\\Users\\samue\\miniconda3\\envs\\machine\\lib\\site-packages\\scipy\\optimize\\_hessian_update_strategy.py:182: UserWarning: delta_grad == 0.0. Check if the approximated function is linear. If the function is linear better results can be obtained by defining the Hessian as zero instead of using quasi-Newton approximations.\n",
      "  warn('delta_grad == 0.0. Check if the approximated '\n"
     ]
    },
    {
     "data": {
      "image/png": "[encoded data removed]",
      "text/plain": [
       "<Figure size 1008x216 with 4 Axes>"
      ]
     },
     "metadata": {
      "needs_background": "light"
     },
     "output_type": "display_data"
    }
   ],
   "source": [
    "vals = [0.1,0.2,0.8,0.9]\n",
    "prods = product(vals, repeat=2)\n",
    "params_list = [list(x) for x in prods]\n",
    "model_in = 'p-self'\n",
    "plots_estimate(params_list, model_in)"
   ]
  },
  {
   "cell_type": "code",
   "execution_count": 93,
   "id": "c6cecb8e",
   "metadata": {},
   "outputs": [
    {
     "name": "stderr",
     "output_type": "stream",
     "text": [
      "<ipython-input-93-913a9a550e5e>:4: VisibleDeprecationWarning: Creating an ndarray from ragged nested sequences (which is a list-or-tuple of lists-or-tuples-or ndarrays with different lengths or shapes) is deprecated. If you meant to do this, you must specify 'dtype=object' when creating the ndarray\n",
      "  result_pairs_np = np.array(result_pairs)\n"
     ]
    }
   ],
   "source": [
    "params_list=[[0.1]]\n",
    "model_in = 'random'\n",
    "result_pairs = pairs_estimate(params_list, model_in)\n",
    "result_pairs_np = np.array(result_pairs)"
   ]
  },
  {
   "cell_type": "code",
   "execution_count": 94,
   "id": "7fd10459",
   "metadata": {},
   "outputs": [
    {
     "data": {
      "text/plain": [
       "array([[list([0.1]), list([nan, nan, nan, nan])]], dtype=object)"
      ]
     },
     "execution_count": 94,
     "metadata": {},
     "output_type": "execute_result"
    }
   ],
   "source": [
    "result_pairs_np"
   ]
  },
  {
   "cell_type": "code",
   "execution_count": 98,
   "id": "128b69f6",
   "metadata": {},
   "outputs": [
    {
     "data": {
      "text/plain": [
       "[([0.1], [nan, nan, nan, nan])]"
      ]
     },
     "execution_count": 98,
     "metadata": {},
     "output_type": "execute_result"
    }
   ],
   "source": [
    "result_pairs"
   ]
  },
  {
   "cell_type": "code",
   "execution_count": 78,
   "id": "85255564",
   "metadata": {},
   "outputs": [],
   "source": [
    "        X = result_pairs_np[:,0,0]\n",
    "        Y = result_pairs_np[:,1,0]"
   ]
  },
  {
   "cell_type": "code",
   "execution_count": 97,
   "id": "47144454",
   "metadata": {},
   "outputs": [
    {
     "data": {
      "text/plain": [
       "8228.10060122091"
      ]
     },
     "execution_count": 97,
     "metadata": {},
     "output_type": "execute_result"
    }
   ],
   "source": [
    "ns = get_freqs(datas)\n",
    "Is = get_totals(datas)\n",
    "optimize([0.5], Is, ns, 'random')"
   ]
  },
  {
   "cell_type": "markdown",
   "id": "5d9fded4",
   "metadata": {},
   "source": [
    "#### New try (Collins et al.)"
   ]
  },
  {
   "cell_type": "code",
   "execution_count": 149,
   "id": "480b474b",
   "metadata": {},
   "outputs": [],
   "source": [
    "def belletal_deviance(x, df, treshold):\n",
    "    N = int(treshold*len(df.agent.unique()))\n",
    "    df = df.sort_values(by=['trial', 'agent', 'round'])\n",
    "    mu = float(x)\n",
    "    likelihood = [] \n",
    "    for key, grp in df.groupby(['trial', 'agent']):\n",
    "        #print(grp.head())\n",
    "        xk = grp.choice.to_numpy()\n",
    "        attendance_p = np.sum(xk[:5])/5\n",
    "        Nk = grp.attendance.to_numpy()\n",
    "        for t in range(grp.shape[0]):\n",
    "            attendance_p = attendance_p - mu*(Nk[t]-N)*xk[t]\n",
    "            attendance_p = 1 if attendance_p > 1 else attendance_p\n",
    "            attendance_p = 0.0001 if attendance_p <= 0 else attendance_p\n",
    "            #print(Nk[t], N, xk[t], attendance_p)\n",
    "            likelihood.append(attendance_p if xk[t] == 1 else 1 - attendance_p)\n",
    "    #print(likelihood[0:10])\n",
    "    df['likelihood'] = likelihood\n",
    "    return -np.sum(np.log(likelihood))\n",
    "    #return df"
   ]
  },
  {
   "cell_type": "code",
   "execution_count": 150,
   "id": "08b2badd",
   "metadata": {},
   "outputs": [],
   "source": [
    "params_list=[[0.1]]\n",
    "model_in = 'belletal'\n",
    "datas = read_models(params_list, model_in)\n",
    "datas.sort_values(by=['trial', 'agent', 'round'], inplace=True)"
   ]
  },
  {
   "cell_type": "code",
   "execution_count": 151,
   "id": "6b5c0418",
   "metadata": {},
   "outputs": [
    {
     "data": {
      "text/html": [
       "<div>\n",
       "<style scoped>\n",
       "    .dataframe tbody tr th:only-of-type {\n",
       "        vertical-align: middle;\n",
       "    }\n",
       "\n",
       "    .dataframe tbody tr th {\n",
       "        vertical-align: top;\n",
       "    }\n",
       "\n",
       "    .dataframe thead th {\n",
       "        text-align: right;\n",
       "    }\n",
       "</style>\n",
       "<table border=\"1\" class=\"dataframe\">\n",
       "  <thead>\n",
       "    <tr style=\"text-align: right;\">\n",
       "      <th></th>\n",
       "      <th>round</th>\n",
       "      <th>agent</th>\n",
       "      <th>choice</th>\n",
       "      <th>score</th>\n",
       "      <th>probability</th>\n",
       "      <th>params</th>\n",
       "      <th>trial</th>\n",
       "      <th>eff</th>\n",
       "      <th>fairness</th>\n",
       "    </tr>\n",
       "  </thead>\n",
       "  <tbody>\n",
       "    <tr>\n",
       "      <th>0</th>\n",
       "      <td>1</td>\n",
       "      <td>0</td>\n",
       "      <td>0</td>\n",
       "      <td>0</td>\n",
       "      <td>0.793025</td>\n",
       "      <td>[0.1]</td>\n",
       "      <td>0</td>\n",
       "      <td>0.165</td>\n",
       "      <td>0.333333</td>\n",
       "    </tr>\n",
       "    <tr>\n",
       "      <th>1</th>\n",
       "      <td>2</td>\n",
       "      <td>0</td>\n",
       "      <td>1</td>\n",
       "      <td>-1</td>\n",
       "      <td>0.793025</td>\n",
       "      <td>[0.1]</td>\n",
       "      <td>0</td>\n",
       "      <td>0.165</td>\n",
       "      <td>0.333333</td>\n",
       "    </tr>\n",
       "    <tr>\n",
       "      <th>2</th>\n",
       "      <td>3</td>\n",
       "      <td>0</td>\n",
       "      <td>0</td>\n",
       "      <td>0</td>\n",
       "      <td>0.693025</td>\n",
       "      <td>[0.1]</td>\n",
       "      <td>0</td>\n",
       "      <td>0.165</td>\n",
       "      <td>0.333333</td>\n",
       "    </tr>\n",
       "    <tr>\n",
       "      <th>3</th>\n",
       "      <td>4</td>\n",
       "      <td>0</td>\n",
       "      <td>1</td>\n",
       "      <td>-1</td>\n",
       "      <td>0.693025</td>\n",
       "      <td>[0.1]</td>\n",
       "      <td>0</td>\n",
       "      <td>0.165</td>\n",
       "      <td>0.333333</td>\n",
       "    </tr>\n",
       "    <tr>\n",
       "      <th>4</th>\n",
       "      <td>5</td>\n",
       "      <td>0</td>\n",
       "      <td>0</td>\n",
       "      <td>0</td>\n",
       "      <td>0.593025</td>\n",
       "      <td>[0.1]</td>\n",
       "      <td>0</td>\n",
       "      <td>0.165</td>\n",
       "      <td>0.333333</td>\n",
       "    </tr>\n",
       "    <tr>\n",
       "      <th>...</th>\n",
       "      <td>...</td>\n",
       "      <td>...</td>\n",
       "      <td>...</td>\n",
       "      <td>...</td>\n",
       "      <td>...</td>\n",
       "      <td>...</td>\n",
       "      <td>...</td>\n",
       "      <td>...</td>\n",
       "      <td>...</td>\n",
       "    </tr>\n",
       "    <tr>\n",
       "      <th>195</th>\n",
       "      <td>96</td>\n",
       "      <td>1</td>\n",
       "      <td>0</td>\n",
       "      <td>0</td>\n",
       "      <td>0.186754</td>\n",
       "      <td>[0.1]</td>\n",
       "      <td>0</td>\n",
       "      <td>0.165</td>\n",
       "      <td>0.333333</td>\n",
       "    </tr>\n",
       "    <tr>\n",
       "      <th>196</th>\n",
       "      <td>97</td>\n",
       "      <td>1</td>\n",
       "      <td>0</td>\n",
       "      <td>0</td>\n",
       "      <td>0.186754</td>\n",
       "      <td>[0.1]</td>\n",
       "      <td>0</td>\n",
       "      <td>0.165</td>\n",
       "      <td>0.333333</td>\n",
       "    </tr>\n",
       "    <tr>\n",
       "      <th>197</th>\n",
       "      <td>98</td>\n",
       "      <td>1</td>\n",
       "      <td>1</td>\n",
       "      <td>1</td>\n",
       "      <td>0.186754</td>\n",
       "      <td>[0.1]</td>\n",
       "      <td>0</td>\n",
       "      <td>0.165</td>\n",
       "      <td>0.333333</td>\n",
       "    </tr>\n",
       "    <tr>\n",
       "      <th>198</th>\n",
       "      <td>99</td>\n",
       "      <td>1</td>\n",
       "      <td>0</td>\n",
       "      <td>0</td>\n",
       "      <td>0.186754</td>\n",
       "      <td>[0.1]</td>\n",
       "      <td>0</td>\n",
       "      <td>0.165</td>\n",
       "      <td>0.333333</td>\n",
       "    </tr>\n",
       "    <tr>\n",
       "      <th>199</th>\n",
       "      <td>100</td>\n",
       "      <td>1</td>\n",
       "      <td>0</td>\n",
       "      <td>0</td>\n",
       "      <td>0.186754</td>\n",
       "      <td>[0.1]</td>\n",
       "      <td>0</td>\n",
       "      <td>0.165</td>\n",
       "      <td>0.333333</td>\n",
       "    </tr>\n",
       "  </tbody>\n",
       "</table>\n",
       "<p>200 rows × 9 columns</p>\n",
       "</div>"
      ],
      "text/plain": [
       "     round  agent  choice  score  probability params  trial    eff  fairness\n",
       "0        1      0       0      0     0.793025  [0.1]      0  0.165  0.333333\n",
       "1        2      0       1     -1     0.793025  [0.1]      0  0.165  0.333333\n",
       "2        3      0       0      0     0.693025  [0.1]      0  0.165  0.333333\n",
       "3        4      0       1     -1     0.693025  [0.1]      0  0.165  0.333333\n",
       "4        5      0       0      0     0.593025  [0.1]      0  0.165  0.333333\n",
       "..     ...    ...     ...    ...          ...    ...    ...    ...       ...\n",
       "195     96      1       0      0     0.186754  [0.1]      0  0.165  0.333333\n",
       "196     97      1       0      0     0.186754  [0.1]      0  0.165  0.333333\n",
       "197     98      1       1      1     0.186754  [0.1]      0  0.165  0.333333\n",
       "198     99      1       0      0     0.186754  [0.1]      0  0.165  0.333333\n",
       "199    100      1       0      0     0.186754  [0.1]      0  0.165  0.333333\n",
       "\n",
       "[200 rows x 9 columns]"
      ]
     },
     "execution_count": 151,
     "metadata": {},
     "output_type": "execute_result"
    }
   ],
   "source": [
    "datas"
   ]
  },
  {
   "cell_type": "code",
   "execution_count": 152,
   "id": "8193a28e",
   "metadata": {},
   "outputs": [],
   "source": [
    "datas['attendance'] = datas.groupby(['trial', 'round'])['choice'].transform(sum)"
   ]
  },
  {
   "cell_type": "code",
   "execution_count": 153,
   "id": "9d6cf4c2",
   "metadata": {},
   "outputs": [
    {
     "data": {
      "text/plain": [
       "130.98396333098373"
      ]
     },
     "execution_count": 153,
     "metadata": {},
     "output_type": "execute_result"
    }
   ],
   "source": [
    "belletal_deviance(0.05, datas, 0.6)"
   ]
  },
  {
   "cell_type": "code",
   "execution_count": 154,
   "id": "183a4c86",
   "metadata": {},
   "outputs": [],
   "source": [
    "def optimizar(deviance, x0, parametros, minimos,maximos):\n",
    "\n",
    "    bounds = Bounds(minimos,maximos)\n",
    "#    print(\"Finding fitting parameters. Please wait...\")\n",
    "    res = minimize(\n",
    "        deviance,\n",
    "        x0,\n",
    "        args=tuple(parametros),\n",
    "        method='trust-constr',\n",
    "#        method='Nelder-Mead',\n",
    "#        method='Newton-CG',\n",
    "        bounds=bounds,\n",
    "        options={'verbose':0}\n",
    "    )\n",
    "    return res"
   ]
  },
  {
   "cell_type": "code",
   "execution_count": 155,
   "id": "23bc4fe1",
   "metadata": {},
   "outputs": [
    {
     "data": {
      "text/plain": [
       " barrier_parameter: 0.00016000000000000007\n",
       " barrier_tolerance: 0.00016000000000000007\n",
       "          cg_niter: 12\n",
       "      cg_stop_cond: 1\n",
       "            constr: [array([0.05004521])]\n",
       "       constr_nfev: [0]\n",
       "       constr_nhev: [0]\n",
       "       constr_njev: [0]\n",
       "    constr_penalty: 1.0\n",
       "  constr_violation: 0.0\n",
       "    execution_time: 0.4031045436859131\n",
       "               fun: 130.9839028146574\n",
       "              grad: array([0.00302887])\n",
       "               jac: [<1x1 sparse matrix of type '<class 'numpy.float64'>'\n",
       "\twith 1 stored elements in Compressed Sparse Row format>]\n",
       "   lagrangian_grad: array([4.71396349e-10])\n",
       "           message: '`gtol` termination condition is satisfied.'\n",
       "            method: 'tr_interior_point'\n",
       "              nfev: 28\n",
       "              nhev: 0\n",
       "               nit: 17\n",
       "             niter: 17\n",
       "              njev: 14\n",
       "        optimality: 4.713963486051298e-10\n",
       "            status: 1\n",
       "           success: True\n",
       "         tr_radius: 2071.5661262070944\n",
       "                 v: [array([-0.00302887])]\n",
       "                 x: array([0.05004521])"
      ]
     },
     "execution_count": 155,
     "metadata": {},
     "output_type": "execute_result"
    }
   ],
   "source": [
    "optimizar(belletal_deviance, 0.4, [datas, 0.6], [0], [1])"
   ]
  },
  {
   "cell_type": "markdown",
   "id": "35591ae2",
   "metadata": {},
   "source": [
    "#### Try 3"
   ]
  },
  {
   "cell_type": "code",
   "execution_count": 17,
   "id": "e3608020",
   "metadata": {},
   "outputs": [],
   "source": [
    "def get_partner_choice(x):\n",
    "    a = [i for i in x]\n",
    "    a.reverse()\n",
    "    return a\n",
    "\n",
    "def deviance(theta, Is, ns, model_in):\n",
    "    if model_in == 'random':\n",
    "        theta_ = theta*4\n",
    "    elif model_in == 'p-self':\n",
    "        theta_ = [theta[1], theta[1], theta[0], theta[0]]\n",
    "    elif model_in == 'p-partner':\n",
    "        theta_ = [theta[1], theta[0], theta[1], theta[0]]\n",
    "    elif model_in == 'p-mixed':\n",
    "        theta_ = theta\n",
    "    elif model_in == 'belletal':\n",
    "        theta_ = [sum(ns)/sum(Is), sum(ns)/sum(Is), sum(ns)/sum(Is),(1-theta[0])*(sum(ns)/sum(Is))]\n",
    "    return -np.sum(binom.logpmf(ns, Is, theta_))\n",
    "\n",
    "def get_freqs(df):\n",
    "    datas = df.copy()\n",
    "    datas.sort_values(by=['trial', 'agent','round'], inplace=True)\n",
    "    datas['choice_lag'] = datas.groupby(['agent'])['choice'].transform('shift', 1)\n",
    "    datas['choice_lag'] = pd.Categorical(datas['choice_lag'], categories=[0,1])\n",
    "    datas['choice_partner'] = datas.groupby(['round'])['choice'].transform(lambda x: get_partner_choice(x))\n",
    "    datas['choice_partner'] = pd.Categorical(datas['choice_partner'], categories=[0,1])\n",
    "    datas['choice_partner_lag'] = datas.groupby(['agent'])['choice_partner'].transform('shift', 1)\n",
    "    ns = datas.groupby(['choice_lag', 'choice_partner_lag'])['choice'].sum()\n",
    "    return ns\n",
    "\n",
    "def get_freqs_lag(df):\n",
    "    datas = df.copy()\n",
    "    datas.sort_values(by=['trial', 'agent','round'], inplace=True)\n",
    "    datas['choice_lag'] = datas.groupby(['agent'])['choice'].transform('shift', 1)\n",
    "    datas['choice_lag'] = pd.Categorical(datas['choice_lag'], categories=[0,1])\n",
    "    ns = datas.choice_lag.value_counts().to_numpy()\n",
    "    return ns\n",
    "\n",
    "def get_totals(df):\n",
    "    datas = df.copy()\n",
    "    datas.sort_values(by=['trial', 'agent','round'], inplace=True)\n",
    "    datas['choice_lag'] = datas.groupby(['agent'])['choice'].transform('shift', 1)\n",
    "    datas['choice_lag'] = pd.Categorical(datas['choice_lag'], categories=[0,1])\n",
    "    datas['choice_partner'] = datas.groupby(['round'])['choice'].transform(lambda x: get_partner_choice(x))\n",
    "    datas['choice_partner'] = pd.Categorical(datas['choice_partner'], categories=[0,1])\n",
    "    datas['choice_partner_lag'] = datas.groupby(['agent'])['choice_partner'].transform('shift', 1)\n",
    "    Is = datas.groupby(['choice_lag', 'choice_partner_lag'])['choice'].count().to_numpy()\n",
    "    return Is"
   ]
  },
  {
   "cell_type": "code",
   "execution_count": 18,
   "id": "5604179a",
   "metadata": {},
   "outputs": [],
   "source": [
    "params_list=[[0.1]]\n",
    "model_in = 'belletal'\n",
    "datas = read_models(params_list, model_in)\n",
    "datas.sort_values(by=['trial', 'agent', 'round'], inplace=True)"
   ]
  },
  {
   "cell_type": "code",
   "execution_count": 14,
   "id": "72de7d97",
   "metadata": {},
   "outputs": [],
   "source": [
    "ns = get_freqs(datas)"
   ]
  },
  {
   "cell_type": "code",
   "execution_count": 15,
   "id": "1ac39237",
   "metadata": {},
   "outputs": [],
   "source": [
    "Is = get_totals(datas)"
   ]
  },
  {
   "cell_type": "code",
   "execution_count": 16,
   "id": "955082bb",
   "metadata": {},
   "outputs": [
    {
     "data": {
      "text/plain": [
       "choice_lag  choice_partner_lag\n",
       "0           0                     17\n",
       "            1                     10\n",
       "1           0                     15\n",
       "            1                      7\n",
       "Name: choice, dtype: int64"
      ]
     },
     "execution_count": 16,
     "metadata": {},
     "output_type": "execute_result"
    }
   ],
   "source": [
    "ns"
   ]
  },
  {
   "cell_type": "code",
   "execution_count": 19,
   "id": "9dd47ce5",
   "metadata": {},
   "outputs": [
    {
     "data": {
      "text/plain": [
       "15.544045947416787"
      ]
     },
     "execution_count": 19,
     "metadata": {},
     "output_type": "execute_result"
    }
   ],
   "source": [
    "deviance([0.12], Is, ns, model_in)"
   ]
  },
  {
   "cell_type": "code",
   "execution_count": 32,
   "id": "605ce8a0",
   "metadata": {},
   "outputs": [
    {
     "data": {
      "text/plain": [
       "[([0.1], [0.0]), ([0.2], [0.02]), ([0.4], [0.74]), ([0.6], [1.0])]"
      ]
     },
     "execution_count": 32,
     "metadata": {},
     "output_type": "execute_result"
    }
   ],
   "source": [
    "params_list=[[0.1], [0.2], [0.4], [0.6]]\n",
    "model_in = 'belletal'\n",
    "pairs_estimate(params_list, model_in)"
   ]
  },
  {
   "cell_type": "code",
   "execution_count": 30,
   "id": "3392221d",
   "metadata": {},
   "outputs": [
    {
     "data": {
      "text/plain": [
       "[([0.1, 0.9], [0.11, 0.87]),\n",
       " ([0.8, 0.9], [0.81, 0.97]),\n",
       " ([0.9, 0.8], [0.87, 0.79])]"
      ]
     },
     "execution_count": 30,
     "metadata": {},
     "output_type": "execute_result"
    }
   ],
   "source": [
    "params_list=[[0.1, 0.9], [0.8, 0.9], [0.9, 0.8]]\n",
    "model_in = 'p-self'\n",
    "pairs_estimate(params_list, model_in)"
   ]
  },
  {
   "cell_type": "code",
   "execution_count": 27,
   "id": "311465cf",
   "metadata": {},
   "outputs": [
    {
     "data": {
      "text/plain": [
       "[([0.05], [1.0]),\n",
       " ([0.1], [0.0]),\n",
       " ([0.2], [1.0]),\n",
       " ([0.4], [0.0]),\n",
       " ([0.6], [1.0])]"
      ]
     },
     "execution_count": 27,
     "metadata": {},
     "output_type": "execute_result"
    }
   ],
   "source": [
    "params_list=[[0.05], [0.1], [0.2], [0.4], [0.6]]\n",
    "model_in = 'belletal'\n",
    "pairs_estimate(params_list, model_in)"
   ]
  },
  {
   "cell_type": "markdown",
   "id": "6f8c0cb9",
   "metadata": {},
   "source": [
    "Belletal: [0.1],[0.2], [0.4], [0.6], probar próxima vez, comparar con Collins et al."
   ]
  }
 ],
 "metadata": {
  "kernelspec": {
   "display_name": "Python 3",
   "language": "python",
   "name": "python3"
  },
  "language_info": {
   "codemirror_mode": {
    "name": "ipython",
    "version": 3
   },
   "file_extension": ".py",
   "mimetype": "text/x-python",
   "name": "python",
   "nbconvert_exporter": "python",
   "pygments_lexer": "ipython3",
   "version": "3.8.8"
  }
 },
 "nbformat": 4,
 "nbformat_minor": 5
}
