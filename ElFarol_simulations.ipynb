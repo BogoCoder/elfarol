{
 "cells": [
  {
   "cell_type": "markdown",
   "id": "6d33ce38",
   "metadata": {},
   "source": [
    "## Cognitive Models for El Farol\n",
    "---"
   ]
  },
  {
   "cell_type": "code",
   "execution_count": 1,
   "id": "01721a42",
   "metadata": {},
   "outputs": [],
   "source": [
    "import ElFarol as ef\n",
    "import pandas as pd\n",
    "import seaborn as sns\n",
    "import matplotlib.pyplot as plt\n",
    "import numpy as np\n",
    "from itertools import product\n",
    "import ast\n",
    "from copy import deepcopy"
   ]
  },
  {
   "cell_type": "markdown",
   "id": "d345b592",
   "metadata": {},
   "source": [
    "#### Random Model"
   ]
  },
  {
   "cell_type": "code",
   "execution_count": 52,
   "id": "bd838c8a",
   "metadata": {},
   "outputs": [],
   "source": [
    "bar = ef.BarElFarol(num_agents=2, threshold=0.6, model='random')\n",
    "DEB=False\n",
    "num_it = 100\n",
    "model = 'random'\n",
    "parameters = [0.5]\n",
    "for t in range(num_it) : \n",
    "    bar.compute_attendance()\n",
    "    bar.compute_scores()\n",
    "    if DEB :\n",
    "        bar.print_round(t)\n",
    "    bar.agents_decide(model=model, params=parameters, DEB=DEB)"
   ]
  },
  {
   "cell_type": "code",
   "execution_count": 53,
   "id": "5dcf9be8",
   "metadata": {},
   "outputs": [
    {
     "data": {
      "text/plain": [
       "<AxesSubplot:>"
      ]
     },
     "execution_count": 53,
     "metadata": {},
     "output_type": "execute_result"
    },
    {
     "data": {
      "image/png": "[encoded data removed]",
      "text/plain": [
       "<Figure size 432x288 with 1 Axes>"
      ]
     },
     "metadata": {
      "needs_background": "light"
     },
     "output_type": "display_data"
    }
   ],
   "source": [
    "data = pd.DataFrame({'attendance': bar.history})\n",
    "data['attendance'].plot()"
   ]
  },
  {
   "cell_type": "code",
   "execution_count": 54,
   "id": "c99ece85",
   "metadata": {},
   "outputs": [
    {
     "data": {
      "text/html": [
       "<div>\n",
       "<style scoped>\n",
       "    .dataframe tbody tr th:only-of-type {\n",
       "        vertical-align: middle;\n",
       "    }\n",
       "\n",
       "    .dataframe tbody tr th {\n",
       "        vertical-align: top;\n",
       "    }\n",
       "\n",
       "    .dataframe thead th {\n",
       "        text-align: right;\n",
       "    }\n",
       "</style>\n",
       "<table border=\"1\" class=\"dataframe\">\n",
       "  <thead>\n",
       "    <tr style=\"text-align: right;\">\n",
       "      <th></th>\n",
       "      <th>attendance</th>\n",
       "    </tr>\n",
       "  </thead>\n",
       "  <tbody>\n",
       "    <tr>\n",
       "      <th>0</th>\n",
       "      <td>0</td>\n",
       "    </tr>\n",
       "    <tr>\n",
       "      <th>1</th>\n",
       "      <td>1</td>\n",
       "    </tr>\n",
       "    <tr>\n",
       "      <th>2</th>\n",
       "      <td>0</td>\n",
       "    </tr>\n",
       "    <tr>\n",
       "      <th>3</th>\n",
       "      <td>0</td>\n",
       "    </tr>\n",
       "    <tr>\n",
       "      <th>4</th>\n",
       "      <td>0</td>\n",
       "    </tr>\n",
       "    <tr>\n",
       "      <th>...</th>\n",
       "      <td>...</td>\n",
       "    </tr>\n",
       "    <tr>\n",
       "      <th>95</th>\n",
       "      <td>2</td>\n",
       "    </tr>\n",
       "    <tr>\n",
       "      <th>96</th>\n",
       "      <td>0</td>\n",
       "    </tr>\n",
       "    <tr>\n",
       "      <th>97</th>\n",
       "      <td>1</td>\n",
       "    </tr>\n",
       "    <tr>\n",
       "      <th>98</th>\n",
       "      <td>1</td>\n",
       "    </tr>\n",
       "    <tr>\n",
       "      <th>99</th>\n",
       "      <td>1</td>\n",
       "    </tr>\n",
       "  </tbody>\n",
       "</table>\n",
       "<p>100 rows × 1 columns</p>\n",
       "</div>"
      ],
      "text/plain": [
       "    attendance\n",
       "0            0\n",
       "1            1\n",
       "2            0\n",
       "3            0\n",
       "4            0\n",
       "..         ...\n",
       "95           2\n",
       "96           0\n",
       "97           1\n",
       "98           1\n",
       "99           1\n",
       "\n",
       "[100 rows x 1 columns]"
      ]
     },
     "execution_count": 54,
     "metadata": {},
     "output_type": "execute_result"
    }
   ],
   "source": [
    "data"
   ]
  },
  {
   "cell_type": "markdown",
   "id": "b7b43176",
   "metadata": {},
   "source": [
    "#### Bell et al. Model"
   ]
  },
  {
   "cell_type": "code",
   "execution_count": 55,
   "id": "63f6714c",
   "metadata": {},
   "outputs": [],
   "source": [
    "model = 'belletal'\n",
    "bar = ef.BarElFarol(num_agents=2, threshold=0.6, model=model)\n",
    "DEB=False\n",
    "num_it = 100\n",
    "parameters = [0.9]\n",
    "for t in range(num_it) : \n",
    "    bar.compute_attendance()\n",
    "    bar.compute_scores()\n",
    "    if DEB :\n",
    "        bar.print_round(t)\n",
    "    bar.agents_decide(model=model, params=parameters, DEB=DEB)"
   ]
  },
  {
   "cell_type": "code",
   "execution_count": 56,
   "id": "1ec4ba67",
   "metadata": {},
   "outputs": [
    {
     "data": {
      "text/plain": [
       "<AxesSubplot:>"
      ]
     },
     "execution_count": 56,
     "metadata": {},
     "output_type": "execute_result"
    },
    {
     "data": {
      "image/png": "[encoded data removed]",
      "text/plain": [
       "<Figure size 432x288 with 1 Axes>"
      ]
     },
     "metadata": {
      "needs_background": "light"
     },
     "output_type": "display_data"
    }
   ],
   "source": [
    "data_belletal = pd.DataFrame({'attendance': bar.history})\n",
    "data_belletal['attendance'].plot()"
   ]
  },
  {
   "cell_type": "code",
   "execution_count": 65,
   "id": "578cc578",
   "metadata": {},
   "outputs": [
    {
     "data": {
      "text/html": [
       "<div>\n",
       "<style scoped>\n",
       "    .dataframe tbody tr th:only-of-type {\n",
       "        vertical-align: middle;\n",
       "    }\n",
       "\n",
       "    .dataframe tbody tr th {\n",
       "        vertical-align: top;\n",
       "    }\n",
       "\n",
       "    .dataframe thead th {\n",
       "        text-align: right;\n",
       "    }\n",
       "</style>\n",
       "<table border=\"1\" class=\"dataframe\">\n",
       "  <thead>\n",
       "    <tr style=\"text-align: right;\">\n",
       "      <th></th>\n",
       "      <th>round</th>\n",
       "      <th>agent</th>\n",
       "      <th>choice</th>\n",
       "      <th>score</th>\n",
       "      <th>probability</th>\n",
       "    </tr>\n",
       "  </thead>\n",
       "  <tbody>\n",
       "    <tr>\n",
       "      <th>0</th>\n",
       "      <td>1</td>\n",
       "      <td>0</td>\n",
       "      <td>0</td>\n",
       "      <td>0</td>\n",
       "      <td>0.463598</td>\n",
       "    </tr>\n",
       "    <tr>\n",
       "      <th>1</th>\n",
       "      <td>2</td>\n",
       "      <td>0</td>\n",
       "      <td>0</td>\n",
       "      <td>0</td>\n",
       "      <td>0.463598</td>\n",
       "    </tr>\n",
       "    <tr>\n",
       "      <th>2</th>\n",
       "      <td>3</td>\n",
       "      <td>0</td>\n",
       "      <td>1</td>\n",
       "      <td>1</td>\n",
       "      <td>0.463598</td>\n",
       "    </tr>\n",
       "    <tr>\n",
       "      <th>3</th>\n",
       "      <td>4</td>\n",
       "      <td>0</td>\n",
       "      <td>1</td>\n",
       "      <td>-1</td>\n",
       "      <td>0.643598</td>\n",
       "    </tr>\n",
       "    <tr>\n",
       "      <th>4</th>\n",
       "      <td>5</td>\n",
       "      <td>0</td>\n",
       "      <td>0</td>\n",
       "      <td>0</td>\n",
       "      <td>0.000000</td>\n",
       "    </tr>\n",
       "  </tbody>\n",
       "</table>\n",
       "</div>"
      ],
      "text/plain": [
       "   round  agent  choice  score  probability\n",
       "0      1      0       0      0     0.463598\n",
       "1      2      0       0      0     0.463598\n",
       "2      3      0       1      1     0.463598\n",
       "3      4      0       1     -1     0.643598\n",
       "4      5      0       0      0     0.000000"
      ]
     },
     "execution_count": 65,
     "metadata": {},
     "output_type": "execute_result"
    }
   ],
   "source": [
    "datas = bar.save_pandas()\n",
    "datas.head()"
   ]
  },
  {
   "cell_type": "code",
   "execution_count": 66,
   "id": "4039053b",
   "metadata": {},
   "outputs": [
    {
     "data": {
      "text/plain": [
       "<AxesSubplot:xlabel='round', ylabel='probability'>"
      ]
     },
     "execution_count": 66,
     "metadata": {},
     "output_type": "execute_result"
    },
    {
     "data": {
      "image/png": "[encoded data removed]",
      "text/plain": [
       "<Figure size 432x288 with 1 Axes>"
      ]
     },
     "metadata": {
      "needs_background": "light"
     },
     "output_type": "display_data"
    }
   ],
   "source": [
    "sns.lineplot(x='round', y='probability', data=datas, hue='agent')"
   ]
  },
  {
   "cell_type": "code",
   "execution_count": 90,
   "id": "407f29bb",
   "metadata": {},
   "outputs": [],
   "source": [
    "def get_partner_choice(x):\n",
    "    a = [i for i in x]\n",
    "    a.reverse()\n",
    "    return a"
   ]
  },
  {
   "cell_type": "code",
   "execution_count": 94,
   "id": "ec822b1c",
   "metadata": {},
   "outputs": [],
   "source": [
    "datas.sort_values(by=['agent','round'], inplace=True)\n",
    "datas['choice_lag'] = datas.groupby(['agent'])['choice'].transform('shift', 1)\n",
    "datas['choice_partner'] = datas.groupby(['round'])['choice'].transform(lambda x: get_partner_choice(x))\n",
    "datas['choice_partner_lag'] = datas.groupby(['agent'])['choice_partner'].transform('shift', 1)"
   ]
  },
  {
   "cell_type": "code",
   "execution_count": 95,
   "id": "d0058a71",
   "metadata": {},
   "outputs": [
    {
     "data": {
      "text/html": [
       "<div>\n",
       "<style scoped>\n",
       "    .dataframe tbody tr th:only-of-type {\n",
       "        vertical-align: middle;\n",
       "    }\n",
       "\n",
       "    .dataframe tbody tr th {\n",
       "        vertical-align: top;\n",
       "    }\n",
       "\n",
       "    .dataframe thead th {\n",
       "        text-align: right;\n",
       "    }\n",
       "</style>\n",
       "<table border=\"1\" class=\"dataframe\">\n",
       "  <thead>\n",
       "    <tr style=\"text-align: right;\">\n",
       "      <th></th>\n",
       "      <th>round</th>\n",
       "      <th>agent</th>\n",
       "      <th>choice</th>\n",
       "      <th>score</th>\n",
       "      <th>probability</th>\n",
       "      <th>choice_lag</th>\n",
       "      <th>choice_partner</th>\n",
       "      <th>choice_partner_lag</th>\n",
       "    </tr>\n",
       "  </thead>\n",
       "  <tbody>\n",
       "    <tr>\n",
       "      <th>0</th>\n",
       "      <td>1</td>\n",
       "      <td>0</td>\n",
       "      <td>0</td>\n",
       "      <td>0</td>\n",
       "      <td>0.463598</td>\n",
       "      <td>NaN</td>\n",
       "      <td>1</td>\n",
       "      <td>NaN</td>\n",
       "    </tr>\n",
       "    <tr>\n",
       "      <th>100</th>\n",
       "      <td>1</td>\n",
       "      <td>1</td>\n",
       "      <td>1</td>\n",
       "      <td>1</td>\n",
       "      <td>0.347405</td>\n",
       "      <td>NaN</td>\n",
       "      <td>0</td>\n",
       "      <td>NaN</td>\n",
       "    </tr>\n",
       "    <tr>\n",
       "      <th>1</th>\n",
       "      <td>2</td>\n",
       "      <td>0</td>\n",
       "      <td>0</td>\n",
       "      <td>0</td>\n",
       "      <td>0.463598</td>\n",
       "      <td>0.0</td>\n",
       "      <td>1</td>\n",
       "      <td>1.0</td>\n",
       "    </tr>\n",
       "    <tr>\n",
       "      <th>101</th>\n",
       "      <td>2</td>\n",
       "      <td>1</td>\n",
       "      <td>1</td>\n",
       "      <td>1</td>\n",
       "      <td>0.527405</td>\n",
       "      <td>1.0</td>\n",
       "      <td>0</td>\n",
       "      <td>0.0</td>\n",
       "    </tr>\n",
       "    <tr>\n",
       "      <th>2</th>\n",
       "      <td>3</td>\n",
       "      <td>0</td>\n",
       "      <td>1</td>\n",
       "      <td>1</td>\n",
       "      <td>0.463598</td>\n",
       "      <td>0.0</td>\n",
       "      <td>0</td>\n",
       "      <td>1.0</td>\n",
       "    </tr>\n",
       "    <tr>\n",
       "      <th>...</th>\n",
       "      <td>...</td>\n",
       "      <td>...</td>\n",
       "      <td>...</td>\n",
       "      <td>...</td>\n",
       "      <td>...</td>\n",
       "      <td>...</td>\n",
       "      <td>...</td>\n",
       "      <td>...</td>\n",
       "    </tr>\n",
       "    <tr>\n",
       "      <th>97</th>\n",
       "      <td>98</td>\n",
       "      <td>0</td>\n",
       "      <td>0</td>\n",
       "      <td>0</td>\n",
       "      <td>0.000000</td>\n",
       "      <td>0.0</td>\n",
       "      <td>0</td>\n",
       "      <td>0.0</td>\n",
       "    </tr>\n",
       "    <tr>\n",
       "      <th>198</th>\n",
       "      <td>99</td>\n",
       "      <td>1</td>\n",
       "      <td>0</td>\n",
       "      <td>0</td>\n",
       "      <td>0.000000</td>\n",
       "      <td>0.0</td>\n",
       "      <td>0</td>\n",
       "      <td>0.0</td>\n",
       "    </tr>\n",
       "    <tr>\n",
       "      <th>98</th>\n",
       "      <td>99</td>\n",
       "      <td>0</td>\n",
       "      <td>0</td>\n",
       "      <td>0</td>\n",
       "      <td>0.000000</td>\n",
       "      <td>0.0</td>\n",
       "      <td>0</td>\n",
       "      <td>0.0</td>\n",
       "    </tr>\n",
       "    <tr>\n",
       "      <th>99</th>\n",
       "      <td>100</td>\n",
       "      <td>0</td>\n",
       "      <td>0</td>\n",
       "      <td>0</td>\n",
       "      <td>0.000000</td>\n",
       "      <td>0.0</td>\n",
       "      <td>0</td>\n",
       "      <td>0.0</td>\n",
       "    </tr>\n",
       "    <tr>\n",
       "      <th>199</th>\n",
       "      <td>100</td>\n",
       "      <td>1</td>\n",
       "      <td>0</td>\n",
       "      <td>0</td>\n",
       "      <td>0.000000</td>\n",
       "      <td>0.0</td>\n",
       "      <td>0</td>\n",
       "      <td>0.0</td>\n",
       "    </tr>\n",
       "  </tbody>\n",
       "</table>\n",
       "<p>200 rows × 8 columns</p>\n",
       "</div>"
      ],
      "text/plain": [
       "     round  agent  choice  score  probability  choice_lag  choice_partner  \\\n",
       "0        1      0       0      0     0.463598         NaN               1   \n",
       "100      1      1       1      1     0.347405         NaN               0   \n",
       "1        2      0       0      0     0.463598         0.0               1   \n",
       "101      2      1       1      1     0.527405         1.0               0   \n",
       "2        3      0       1      1     0.463598         0.0               0   \n",
       "..     ...    ...     ...    ...          ...         ...             ...   \n",
       "97      98      0       0      0     0.000000         0.0               0   \n",
       "198     99      1       0      0     0.000000         0.0               0   \n",
       "98      99      0       0      0     0.000000         0.0               0   \n",
       "99     100      0       0      0     0.000000         0.0               0   \n",
       "199    100      1       0      0     0.000000         0.0               0   \n",
       "\n",
       "     choice_partner_lag  \n",
       "0                   NaN  \n",
       "100                 NaN  \n",
       "1                   1.0  \n",
       "101                 0.0  \n",
       "2                   1.0  \n",
       "..                  ...  \n",
       "97                  0.0  \n",
       "198                 0.0  \n",
       "98                  0.0  \n",
       "99                  0.0  \n",
       "199                 0.0  \n",
       "\n",
       "[200 rows x 8 columns]"
      ]
     },
     "execution_count": 95,
     "metadata": {},
     "output_type": "execute_result"
    }
   ],
   "source": [
    "datas.sort_values(by=['round'])"
   ]
  },
  {
   "cell_type": "code",
   "execution_count": 96,
   "id": "98ee3797",
   "metadata": {},
   "outputs": [
    {
     "data": {
      "text/plain": [
       "choice_lag  choice_partner_lag\n",
       "0.0         0.0                   0\n",
       "            1.0                   2\n",
       "1.0         0.0                   2\n",
       "            1.0                   0\n",
       "Name: choice, dtype: int64"
      ]
     },
     "execution_count": 96,
     "metadata": {},
     "output_type": "execute_result"
    }
   ],
   "source": [
    "datas.groupby(['choice_lag', 'choice_partner_lag'])['choice'].sum()"
   ]
  },
  {
   "cell_type": "markdown",
   "id": "96774e9f",
   "metadata": {},
   "source": [
    "#### Win-Stay-Lose-Shift Model"
   ]
  },
  {
   "cell_type": "code",
   "execution_count": null,
   "id": "769abf5c",
   "metadata": {},
   "outputs": [],
   "source": [
    "bar = ef.BarElFarol(num_agents=2, threshold=0.6, model='win-stay-lose-shift')\n",
    "DEB=False\n",
    "num_it = 50\n",
    "model = 'win-stay-lose-shift'\n",
    "parameters = [0.005]\n",
    "for t in range(num_it) : \n",
    "    bar.compute_attendance()\n",
    "    bar.compute_scores()\n",
    "    if DEB :\n",
    "        bar.print_round(t)\n",
    "    bar.agents_decide(model=model, params=parameters, DEB=DEB)"
   ]
  },
  {
   "cell_type": "code",
   "execution_count": null,
   "id": "52b32578",
   "metadata": {},
   "outputs": [],
   "source": [
    "data = pd.DataFrame({'attendance': bar.history})\n",
    "\n",
    "fig, ax = plt.subplots()\n",
    "data['attendance'].plot()\n",
    "ax.axhline(60, ls='--', color='red')"
   ]
  },
  {
   "cell_type": "code",
   "execution_count": null,
   "id": "837cb4fe",
   "metadata": {},
   "outputs": [],
   "source": [
    "datas = bar.save_pandas()\n",
    "datas.head()"
   ]
  },
  {
   "cell_type": "code",
   "execution_count": null,
   "id": "ad76191c",
   "metadata": {},
   "outputs": [],
   "source": [
    "sns.lineplot(x='round', y='probability', data=datas, hue='agent')"
   ]
  },
  {
   "cell_type": "markdown",
   "id": "f40414ca",
   "metadata": {},
   "source": [
    "#### P-self"
   ]
  },
  {
   "cell_type": "code",
   "execution_count": null,
   "id": "f8f0f6ab",
   "metadata": {},
   "outputs": [],
   "source": [
    "bar = ef.BarElFarol(num_agents=2, threshold=0.6, model='p-self')\n",
    "DEB=False\n",
    "num_it = 50\n",
    "model = 'p-self'\n",
    "parameters = [0.6, 0.9]\n",
    "for t in range(num_it) : \n",
    "    bar.compute_attendance()\n",
    "    bar.compute_scores()\n",
    "    if DEB :\n",
    "        bar.print_round(t)\n",
    "    bar.agents_decide(model=model, params=parameters, DEB=DEB)"
   ]
  },
  {
   "cell_type": "code",
   "execution_count": null,
   "id": "55e2f3ae",
   "metadata": {},
   "outputs": [],
   "source": [
    "data = pd.DataFrame({'attendance': bar.history})\n",
    "\n",
    "fig, ax = plt.subplots()\n",
    "sns.lineplot(data=data['attendance'], ax=ax)\n",
    "#ax.axhline(60, ls='--', color='red')"
   ]
  },
  {
   "cell_type": "code",
   "execution_count": null,
   "id": "6dafdf0c",
   "metadata": {},
   "outputs": [],
   "source": [
    "datas = bar.save_pandas()\n",
    "datas.head()"
   ]
  },
  {
   "cell_type": "code",
   "execution_count": null,
   "id": "34743be7",
   "metadata": {},
   "outputs": [],
   "source": [
    "sns.lineplot(x='round', y='probability', data=datas, hue='agent')"
   ]
  },
  {
   "cell_type": "markdown",
   "id": "3540f45a",
   "metadata": {},
   "source": [
    "#### P-partner"
   ]
  },
  {
   "cell_type": "code",
   "execution_count": 34,
   "id": "aafa4f4d",
   "metadata": {},
   "outputs": [],
   "source": [
    "import ElFarol as ef\n",
    "import pandas as pd\n",
    "import seaborn as sns\n",
    "import matplotlib.pyplot as plt\n",
    "import numpy as np\n",
    "from itertools import product\n",
    "import ast\n",
    "from copy import deepcopy"
   ]
  },
  {
   "cell_type": "code",
   "execution_count": 35,
   "id": "7829ff85",
   "metadata": {},
   "outputs": [
    {
     "name": "stdout",
     "output_type": "stream",
     "text": [
      "==============================\n",
      "Round: 0 || Attendance: 2\n",
      "State:1, Score:-1, Attendance probability:0.3041060941702747\n",
      "State:1, Score:-1, Attendance probability:0.31162144050572316\n",
      "==============================\n",
      "Round: 1 || Attendance: 0\n",
      "State:0, Score:0, Attendance probability:0\n",
      "State:0, Score:0, Attendance probability:0\n",
      "==============================\n",
      "Round: 2 || Attendance: 2\n",
      "State:1, Score:-1, Attendance probability:1\n",
      "State:1, Score:-1, Attendance probability:1\n",
      "==============================\n",
      "Round: 3 || Attendance: 0\n",
      "State:0, Score:0, Attendance probability:0\n",
      "State:0, Score:0, Attendance probability:0\n",
      "==============================\n",
      "Round: 4 || Attendance: 2\n",
      "State:1, Score:-1, Attendance probability:1\n",
      "State:1, Score:-1, Attendance probability:1\n",
      "==============================\n",
      "Round: 5 || Attendance: 0\n",
      "State:0, Score:0, Attendance probability:0\n",
      "State:0, Score:0, Attendance probability:0\n",
      "==============================\n",
      "Round: 6 || Attendance: 2\n",
      "State:1, Score:-1, Attendance probability:1\n",
      "State:1, Score:-1, Attendance probability:1\n",
      "==============================\n",
      "Round: 7 || Attendance: 0\n",
      "State:0, Score:0, Attendance probability:0\n",
      "State:0, Score:0, Attendance probability:0\n",
      "==============================\n",
      "Round: 8 || Attendance: 2\n",
      "State:1, Score:-1, Attendance probability:1\n",
      "State:1, Score:-1, Attendance probability:1\n",
      "==============================\n",
      "Round: 9 || Attendance: 0\n",
      "State:0, Score:0, Attendance probability:0\n",
      "State:0, Score:0, Attendance probability:0\n",
      "==============================\n",
      "Round: 10 || Attendance: 2\n",
      "State:1, Score:-1, Attendance probability:1\n",
      "State:1, Score:-1, Attendance probability:1\n",
      "==============================\n",
      "Round: 11 || Attendance: 0\n",
      "State:0, Score:0, Attendance probability:0\n",
      "State:0, Score:0, Attendance probability:0\n",
      "==============================\n",
      "Round: 12 || Attendance: 2\n",
      "State:1, Score:-1, Attendance probability:1\n",
      "State:1, Score:-1, Attendance probability:1\n",
      "==============================\n",
      "Round: 13 || Attendance: 0\n",
      "State:0, Score:0, Attendance probability:0\n",
      "State:0, Score:0, Attendance probability:0\n",
      "==============================\n",
      "Round: 14 || Attendance: 2\n",
      "State:1, Score:-1, Attendance probability:1\n",
      "State:1, Score:-1, Attendance probability:1\n",
      "==============================\n",
      "Round: 15 || Attendance: 0\n",
      "State:0, Score:0, Attendance probability:0\n",
      "State:0, Score:0, Attendance probability:0\n",
      "==============================\n",
      "Round: 16 || Attendance: 2\n",
      "State:1, Score:-1, Attendance probability:1\n",
      "State:1, Score:-1, Attendance probability:1\n",
      "==============================\n",
      "Round: 17 || Attendance: 0\n",
      "State:0, Score:0, Attendance probability:0\n",
      "State:0, Score:0, Attendance probability:0\n",
      "==============================\n",
      "Round: 18 || Attendance: 2\n",
      "State:1, Score:-1, Attendance probability:1\n",
      "State:1, Score:-1, Attendance probability:1\n",
      "==============================\n",
      "Round: 19 || Attendance: 0\n",
      "State:0, Score:0, Attendance probability:0\n",
      "State:0, Score:0, Attendance probability:0\n",
      "==============================\n",
      "Round: 20 || Attendance: 2\n",
      "State:1, Score:-1, Attendance probability:1\n",
      "State:1, Score:-1, Attendance probability:1\n",
      "==============================\n",
      "Round: 21 || Attendance: 0\n",
      "State:0, Score:0, Attendance probability:0\n",
      "State:0, Score:0, Attendance probability:0\n",
      "==============================\n",
      "Round: 22 || Attendance: 2\n",
      "State:1, Score:-1, Attendance probability:1\n",
      "State:1, Score:-1, Attendance probability:1\n",
      "==============================\n",
      "Round: 23 || Attendance: 0\n",
      "State:0, Score:0, Attendance probability:0\n",
      "State:0, Score:0, Attendance probability:0\n",
      "==============================\n",
      "Round: 24 || Attendance: 2\n",
      "State:1, Score:-1, Attendance probability:1\n",
      "State:1, Score:-1, Attendance probability:1\n",
      "==============================\n",
      "Round: 25 || Attendance: 0\n",
      "State:0, Score:0, Attendance probability:0\n",
      "State:0, Score:0, Attendance probability:0\n",
      "==============================\n",
      "Round: 26 || Attendance: 2\n",
      "State:1, Score:-1, Attendance probability:1\n",
      "State:1, Score:-1, Attendance probability:1\n",
      "==============================\n",
      "Round: 27 || Attendance: 0\n",
      "State:0, Score:0, Attendance probability:0\n",
      "State:0, Score:0, Attendance probability:0\n",
      "==============================\n",
      "Round: 28 || Attendance: 2\n",
      "State:1, Score:-1, Attendance probability:1\n",
      "State:1, Score:-1, Attendance probability:1\n",
      "==============================\n",
      "Round: 29 || Attendance: 0\n",
      "State:0, Score:0, Attendance probability:0\n",
      "State:0, Score:0, Attendance probability:0\n",
      "==============================\n",
      "Round: 30 || Attendance: 2\n",
      "State:1, Score:-1, Attendance probability:1\n",
      "State:1, Score:-1, Attendance probability:1\n",
      "==============================\n",
      "Round: 31 || Attendance: 0\n",
      "State:0, Score:0, Attendance probability:0\n",
      "State:0, Score:0, Attendance probability:0\n",
      "==============================\n",
      "Round: 32 || Attendance: 2\n",
      "State:1, Score:-1, Attendance probability:1\n",
      "State:1, Score:-1, Attendance probability:1\n",
      "==============================\n",
      "Round: 33 || Attendance: 0\n",
      "State:0, Score:0, Attendance probability:0\n",
      "State:0, Score:0, Attendance probability:0\n",
      "==============================\n",
      "Round: 34 || Attendance: 2\n",
      "State:1, Score:-1, Attendance probability:1\n",
      "State:1, Score:-1, Attendance probability:1\n",
      "==============================\n",
      "Round: 35 || Attendance: 0\n",
      "State:0, Score:0, Attendance probability:0\n",
      "State:0, Score:0, Attendance probability:0\n",
      "==============================\n",
      "Round: 36 || Attendance: 2\n",
      "State:1, Score:-1, Attendance probability:1\n",
      "State:1, Score:-1, Attendance probability:1\n",
      "==============================\n",
      "Round: 37 || Attendance: 0\n",
      "State:0, Score:0, Attendance probability:0\n",
      "State:0, Score:0, Attendance probability:0\n",
      "==============================\n",
      "Round: 38 || Attendance: 2\n",
      "State:1, Score:-1, Attendance probability:1\n",
      "State:1, Score:-1, Attendance probability:1\n",
      "==============================\n",
      "Round: 39 || Attendance: 0\n",
      "State:0, Score:0, Attendance probability:0\n",
      "State:0, Score:0, Attendance probability:0\n",
      "==============================\n",
      "Round: 40 || Attendance: 2\n",
      "State:1, Score:-1, Attendance probability:1\n",
      "State:1, Score:-1, Attendance probability:1\n",
      "==============================\n",
      "Round: 41 || Attendance: 0\n",
      "State:0, Score:0, Attendance probability:0\n",
      "State:0, Score:0, Attendance probability:0\n",
      "==============================\n",
      "Round: 42 || Attendance: 2\n",
      "State:1, Score:-1, Attendance probability:1\n",
      "State:1, Score:-1, Attendance probability:1\n",
      "==============================\n",
      "Round: 43 || Attendance: 0\n",
      "State:0, Score:0, Attendance probability:0\n",
      "State:0, Score:0, Attendance probability:0\n",
      "==============================\n",
      "Round: 44 || Attendance: 2\n",
      "State:1, Score:-1, Attendance probability:1\n",
      "State:1, Score:-1, Attendance probability:1\n",
      "==============================\n",
      "Round: 45 || Attendance: 0\n",
      "State:0, Score:0, Attendance probability:0\n",
      "State:0, Score:0, Attendance probability:0\n",
      "==============================\n",
      "Round: 46 || Attendance: 2\n",
      "State:1, Score:-1, Attendance probability:1\n",
      "State:1, Score:-1, Attendance probability:1\n",
      "==============================\n",
      "Round: 47 || Attendance: 0\n",
      "State:0, Score:0, Attendance probability:0\n",
      "State:0, Score:0, Attendance probability:0\n",
      "==============================\n",
      "Round: 48 || Attendance: 2\n",
      "State:1, Score:-1, Attendance probability:1\n",
      "State:1, Score:-1, Attendance probability:1\n",
      "==============================\n",
      "Round: 49 || Attendance: 0\n",
      "State:0, Score:0, Attendance probability:0\n",
      "State:0, Score:0, Attendance probability:0\n"
     ]
    }
   ],
   "source": [
    "bar = ef.BarElFarol(num_agents=2, threshold=0.6, model='p-partner')\n",
    "DEB=True\n",
    "num_it = 50\n",
    "model = 'p-partner'\n",
    "parameters = [0, 1]\n",
    "for t in range(num_it) : \n",
    "    bar.compute_attendance()\n",
    "    bar.compute_scores()\n",
    "    if DEB :\n",
    "        bar.print_round(t)\n",
    "    bar.agents_decide(model=model, params=parameters, DEB=DEB)"
   ]
  },
  {
   "cell_type": "code",
   "execution_count": 36,
   "id": "12fa582c",
   "metadata": {},
   "outputs": [
    {
     "data": {
      "text/plain": [
       "<AxesSubplot:ylabel='attendance'>"
      ]
     },
     "execution_count": 36,
     "metadata": {},
     "output_type": "execute_result"
    },
    {
     "data": {
      "image/png": "[encoded data removed]",
      "text/plain": [
       "<Figure size 432x288 with 1 Axes>"
      ]
     },
     "metadata": {
      "needs_background": "light"
     },
     "output_type": "display_data"
    }
   ],
   "source": [
    "data = pd.DataFrame({'attendance': bar.history})\n",
    "\n",
    "fig, ax = plt.subplots()\n",
    "sns.lineplot(data=data['attendance'], ax=ax)\n",
    "#ax.axhline(60, ls='--', color='red')"
   ]
  },
  {
   "cell_type": "code",
   "execution_count": 37,
   "id": "704a1f55",
   "metadata": {},
   "outputs": [
    {
     "data": {
      "text/html": [
       "<div>\n",
       "<style scoped>\n",
       "    .dataframe tbody tr th:only-of-type {\n",
       "        vertical-align: middle;\n",
       "    }\n",
       "\n",
       "    .dataframe tbody tr th {\n",
       "        vertical-align: top;\n",
       "    }\n",
       "\n",
       "    .dataframe thead th {\n",
       "        text-align: right;\n",
       "    }\n",
       "</style>\n",
       "<table border=\"1\" class=\"dataframe\">\n",
       "  <thead>\n",
       "    <tr style=\"text-align: right;\">\n",
       "      <th></th>\n",
       "      <th>round</th>\n",
       "      <th>agent</th>\n",
       "      <th>choice</th>\n",
       "      <th>score</th>\n",
       "      <th>probability</th>\n",
       "    </tr>\n",
       "  </thead>\n",
       "  <tbody>\n",
       "    <tr>\n",
       "      <th>0</th>\n",
       "      <td>1</td>\n",
       "      <td>0</td>\n",
       "      <td>1</td>\n",
       "      <td>-1</td>\n",
       "      <td>0.304106</td>\n",
       "    </tr>\n",
       "    <tr>\n",
       "      <th>50</th>\n",
       "      <td>1</td>\n",
       "      <td>1</td>\n",
       "      <td>1</td>\n",
       "      <td>-1</td>\n",
       "      <td>0.311621</td>\n",
       "    </tr>\n",
       "    <tr>\n",
       "      <th>1</th>\n",
       "      <td>2</td>\n",
       "      <td>0</td>\n",
       "      <td>0</td>\n",
       "      <td>0</td>\n",
       "      <td>0.000000</td>\n",
       "    </tr>\n",
       "    <tr>\n",
       "      <th>51</th>\n",
       "      <td>2</td>\n",
       "      <td>1</td>\n",
       "      <td>0</td>\n",
       "      <td>0</td>\n",
       "      <td>0.000000</td>\n",
       "    </tr>\n",
       "    <tr>\n",
       "      <th>2</th>\n",
       "      <td>3</td>\n",
       "      <td>0</td>\n",
       "      <td>1</td>\n",
       "      <td>-1</td>\n",
       "      <td>1.000000</td>\n",
       "    </tr>\n",
       "    <tr>\n",
       "      <th>...</th>\n",
       "      <td>...</td>\n",
       "      <td>...</td>\n",
       "      <td>...</td>\n",
       "      <td>...</td>\n",
       "      <td>...</td>\n",
       "    </tr>\n",
       "    <tr>\n",
       "      <th>97</th>\n",
       "      <td>48</td>\n",
       "      <td>1</td>\n",
       "      <td>0</td>\n",
       "      <td>0</td>\n",
       "      <td>0.000000</td>\n",
       "    </tr>\n",
       "    <tr>\n",
       "      <th>48</th>\n",
       "      <td>49</td>\n",
       "      <td>0</td>\n",
       "      <td>1</td>\n",
       "      <td>-1</td>\n",
       "      <td>1.000000</td>\n",
       "    </tr>\n",
       "    <tr>\n",
       "      <th>98</th>\n",
       "      <td>49</td>\n",
       "      <td>1</td>\n",
       "      <td>1</td>\n",
       "      <td>-1</td>\n",
       "      <td>1.000000</td>\n",
       "    </tr>\n",
       "    <tr>\n",
       "      <th>49</th>\n",
       "      <td>50</td>\n",
       "      <td>0</td>\n",
       "      <td>0</td>\n",
       "      <td>0</td>\n",
       "      <td>0.000000</td>\n",
       "    </tr>\n",
       "    <tr>\n",
       "      <th>99</th>\n",
       "      <td>50</td>\n",
       "      <td>1</td>\n",
       "      <td>0</td>\n",
       "      <td>0</td>\n",
       "      <td>0.000000</td>\n",
       "    </tr>\n",
       "  </tbody>\n",
       "</table>\n",
       "<p>100 rows × 5 columns</p>\n",
       "</div>"
      ],
      "text/plain": [
       "    round  agent  choice  score  probability\n",
       "0       1      0       1     -1     0.304106\n",
       "50      1      1       1     -1     0.311621\n",
       "1       2      0       0      0     0.000000\n",
       "51      2      1       0      0     0.000000\n",
       "2       3      0       1     -1     1.000000\n",
       "..    ...    ...     ...    ...          ...\n",
       "97     48      1       0      0     0.000000\n",
       "48     49      0       1     -1     1.000000\n",
       "98     49      1       1     -1     1.000000\n",
       "49     50      0       0      0     0.000000\n",
       "99     50      1       0      0     0.000000\n",
       "\n",
       "[100 rows x 5 columns]"
      ]
     },
     "execution_count": 37,
     "metadata": {},
     "output_type": "execute_result"
    }
   ],
   "source": [
    "datas = bar.save_pandas()\n",
    "datas.sort_values(by=['round', 'agent'])"
   ]
  },
  {
   "cell_type": "code",
   "execution_count": 38,
   "id": "07702e6d",
   "metadata": {
    "scrolled": true
   },
   "outputs": [
    {
     "data": {
      "text/plain": [
       "<AxesSubplot:xlabel='round', ylabel='probability'>"
      ]
     },
     "execution_count": 38,
     "metadata": {},
     "output_type": "execute_result"
    },
    {
     "data": {
      "image/png": "[encoded data removed]",
      "text/plain": [
       "<Figure size 432x288 with 1 Axes>"
      ]
     },
     "metadata": {
      "needs_background": "light"
     },
     "output_type": "display_data"
    }
   ],
   "source": [
    "sns.lineplot(x='round', y='probability', data=datas, hue='agent')"
   ]
  },
  {
   "cell_type": "markdown",
   "id": "399ce7f0",
   "metadata": {},
   "source": [
    "#### P-mixed"
   ]
  },
  {
   "cell_type": "code",
   "execution_count": 46,
   "id": "25883868",
   "metadata": {},
   "outputs": [],
   "source": [
    "bar = ef.BarElFarol(num_agents=2, threshold=0.6, model='p-mixed')\n",
    "DEB=False\n",
    "num_it = 50\n",
    "model = 'p-mixed'\n",
    "parameters = [0.1, 0.1,0.9,0.9]\n",
    "for t in range(num_it) : \n",
    "    bar.compute_attendance()\n",
    "    bar.compute_scores()\n",
    "    if DEB :\n",
    "        bar.print_round(t)\n",
    "    bar.agents_decide(model=model, params=parameters, DEB=DEB)"
   ]
  },
  {
   "cell_type": "code",
   "execution_count": 47,
   "id": "81232aca",
   "metadata": {},
   "outputs": [
    {
     "data": {
      "text/plain": [
       "<AxesSubplot:ylabel='attendance'>"
      ]
     },
     "execution_count": 47,
     "metadata": {},
     "output_type": "execute_result"
    },
    {
     "data": {
      "image/png": "[encoded data removed]",
      "text/plain": [
       "<Figure size 432x288 with 1 Axes>"
      ]
     },
     "metadata": {
      "needs_background": "light"
     },
     "output_type": "display_data"
    }
   ],
   "source": [
    "data = pd.DataFrame({'attendance': bar.history})\n",
    "\n",
    "fig, ax = plt.subplots()\n",
    "sns.lineplot(data=data['attendance'], ax=ax)\n",
    "#ax.axhline(60, ls='--', color='red')"
   ]
  },
  {
   "cell_type": "code",
   "execution_count": 48,
   "id": "13ceb738",
   "metadata": {},
   "outputs": [
    {
     "data": {
      "text/html": [
       "<div>\n",
       "<style scoped>\n",
       "    .dataframe tbody tr th:only-of-type {\n",
       "        vertical-align: middle;\n",
       "    }\n",
       "\n",
       "    .dataframe tbody tr th {\n",
       "        vertical-align: top;\n",
       "    }\n",
       "\n",
       "    .dataframe thead th {\n",
       "        text-align: right;\n",
       "    }\n",
       "</style>\n",
       "<table border=\"1\" class=\"dataframe\">\n",
       "  <thead>\n",
       "    <tr style=\"text-align: right;\">\n",
       "      <th></th>\n",
       "      <th>round</th>\n",
       "      <th>agent</th>\n",
       "      <th>choice</th>\n",
       "      <th>score</th>\n",
       "      <th>probability</th>\n",
       "    </tr>\n",
       "  </thead>\n",
       "  <tbody>\n",
       "    <tr>\n",
       "      <th>0</th>\n",
       "      <td>1</td>\n",
       "      <td>0</td>\n",
       "      <td>1</td>\n",
       "      <td>-1</td>\n",
       "      <td>0.962843</td>\n",
       "    </tr>\n",
       "    <tr>\n",
       "      <th>50</th>\n",
       "      <td>1</td>\n",
       "      <td>1</td>\n",
       "      <td>1</td>\n",
       "      <td>-1</td>\n",
       "      <td>0.804588</td>\n",
       "    </tr>\n",
       "    <tr>\n",
       "      <th>1</th>\n",
       "      <td>2</td>\n",
       "      <td>0</td>\n",
       "      <td>0</td>\n",
       "      <td>0</td>\n",
       "      <td>0.100000</td>\n",
       "    </tr>\n",
       "    <tr>\n",
       "      <th>51</th>\n",
       "      <td>2</td>\n",
       "      <td>1</td>\n",
       "      <td>1</td>\n",
       "      <td>1</td>\n",
       "      <td>0.100000</td>\n",
       "    </tr>\n",
       "    <tr>\n",
       "      <th>2</th>\n",
       "      <td>3</td>\n",
       "      <td>0</td>\n",
       "      <td>0</td>\n",
       "      <td>0</td>\n",
       "      <td>0.100000</td>\n",
       "    </tr>\n",
       "    <tr>\n",
       "      <th>...</th>\n",
       "      <td>...</td>\n",
       "      <td>...</td>\n",
       "      <td>...</td>\n",
       "      <td>...</td>\n",
       "      <td>...</td>\n",
       "    </tr>\n",
       "    <tr>\n",
       "      <th>47</th>\n",
       "      <td>48</td>\n",
       "      <td>0</td>\n",
       "      <td>1</td>\n",
       "      <td>-1</td>\n",
       "      <td>0.100000</td>\n",
       "    </tr>\n",
       "    <tr>\n",
       "      <th>98</th>\n",
       "      <td>49</td>\n",
       "      <td>1</td>\n",
       "      <td>0</td>\n",
       "      <td>0</td>\n",
       "      <td>0.100000</td>\n",
       "    </tr>\n",
       "    <tr>\n",
       "      <th>48</th>\n",
       "      <td>49</td>\n",
       "      <td>0</td>\n",
       "      <td>0</td>\n",
       "      <td>0</td>\n",
       "      <td>0.100000</td>\n",
       "    </tr>\n",
       "    <tr>\n",
       "      <th>49</th>\n",
       "      <td>50</td>\n",
       "      <td>0</td>\n",
       "      <td>1</td>\n",
       "      <td>-1</td>\n",
       "      <td>0.900000</td>\n",
       "    </tr>\n",
       "    <tr>\n",
       "      <th>99</th>\n",
       "      <td>50</td>\n",
       "      <td>1</td>\n",
       "      <td>1</td>\n",
       "      <td>-1</td>\n",
       "      <td>0.900000</td>\n",
       "    </tr>\n",
       "  </tbody>\n",
       "</table>\n",
       "<p>100 rows × 5 columns</p>\n",
       "</div>"
      ],
      "text/plain": [
       "    round  agent  choice  score  probability\n",
       "0       1      0       1     -1     0.962843\n",
       "50      1      1       1     -1     0.804588\n",
       "1       2      0       0      0     0.100000\n",
       "51      2      1       1      1     0.100000\n",
       "2       3      0       0      0     0.100000\n",
       "..    ...    ...     ...    ...          ...\n",
       "47     48      0       1     -1     0.100000\n",
       "98     49      1       0      0     0.100000\n",
       "48     49      0       0      0     0.100000\n",
       "49     50      0       1     -1     0.900000\n",
       "99     50      1       1     -1     0.900000\n",
       "\n",
       "[100 rows x 5 columns]"
      ]
     },
     "execution_count": 48,
     "metadata": {},
     "output_type": "execute_result"
    }
   ],
   "source": [
    "datas = bar.save_pandas()\n",
    "datas.sort_values(by='round')"
   ]
  },
  {
   "cell_type": "code",
   "execution_count": 49,
   "id": "5dcec01a",
   "metadata": {},
   "outputs": [
    {
     "data": {
      "text/plain": [
       "<AxesSubplot:xlabel='round', ylabel='probability'>"
      ]
     },
     "execution_count": 49,
     "metadata": {},
     "output_type": "execute_result"
    },
    {
     "data": {
      "image/png": "[encoded data removed]",
      "text/plain": [
       "<Figure size 432x288 with 1 Axes>"
      ]
     },
     "metadata": {
      "needs_background": "light"
     },
     "output_type": "display_data"
    }
   ],
   "source": [
    "sns.lineplot(x='round', y='probability', data=datas, hue='agent')"
   ]
  },
  {
   "cell_type": "code",
   "execution_count": 50,
   "id": "24dc32c7",
   "metadata": {},
   "outputs": [],
   "source": [
    "def measurements(df):\n",
    "    eff = df.score.mean()\n",
    "\n",
    "    df['winner'] = df.groupby('round')['score'].transform(winner)\n",
    "    \n",
    "    if 'a' in df['winner'].unique():\n",
    "        ro1_p = df['winner'].value_counts()['a']\n",
    "    else: \n",
    "        ro1_p = 0\n",
    "    \n",
    "    if 'b' in df['winner'].unique():\n",
    "        ro2_p = df['winner'].value_counts()['b']\n",
    "    else: \n",
    "        ro2_p = 0\n",
    "    fairness = min(ro1_p, ro2_p)/max(ro1_p, ro2_p)\n",
    "    return (eff, fairness)\n",
    "\n",
    "def winner(l):\n",
    "    if np.argmax(l) == 0:\n",
    "        return 'a'\n",
    "    else:\n",
    "        return 'b'"
   ]
  },
  {
   "cell_type": "code",
   "execution_count": 51,
   "id": "9a5f7397",
   "metadata": {},
   "outputs": [
    {
     "data": {
      "text/plain": [
       "(0.0, 0.5151515151515151)"
      ]
     },
     "execution_count": 51,
     "metadata": {},
     "output_type": "execute_result"
    }
   ],
   "source": [
    "measurements(datas)"
   ]
  }
 ],
 "metadata": {
  "kernelspec": {
   "display_name": "Python 3",
   "language": "python",
   "name": "python3"
  },
  "language_info": {
   "codemirror_mode": {
    "name": "ipython",
    "version": 3
   },
   "file_extension": ".py",
   "mimetype": "text/x-python",
   "name": "python",
   "nbconvert_exporter": "python",
   "pygments_lexer": "ipython3",
   "version": "3.8.8"
  }
 },
 "nbformat": 4,
 "nbformat_minor": 5
}
